{
 "cells": [
  {
   "cell_type": "code",
   "execution_count": 18,
   "metadata": {},
   "outputs": [],
   "source": [
    "# Update sklearn to prevent version mismatches\n",
    "#!pip install sklearn --upgrade"
   ]
  },
  {
   "cell_type": "code",
   "execution_count": 19,
   "metadata": {},
   "outputs": [],
   "source": [
    "# install joblib. This will be used to save your model. \n",
    "# Restart your kernel after installing \n",
    "#!pip install joblib"
   ]
  },
  {
   "cell_type": "code",
   "execution_count": 1,
   "metadata": {},
   "outputs": [],
   "source": [
    "import pandas as pd\n",
    "import matplotlib.pyplot as plt\n",
    "import numpy as np"
   ]
  },
  {
   "cell_type": "markdown",
   "metadata": {},
   "source": [
    "# Read the CSV and Perform Basic Data Cleaning"
   ]
  },
  {
   "cell_type": "code",
   "execution_count": 2,
   "metadata": {},
   "outputs": [
    {
     "data": {
      "text/plain": [
       "(1778996, 53)"
      ]
     },
     "execution_count": 2,
     "metadata": {},
     "output_type": "execute_result"
    }
   ],
   "source": [
    "df = pd.read_csv(\"charts_data_model_2.csv\")\n",
    "# Drop the null columns where all values are null\n",
    "df = df.dropna(axis='columns', how='all')\n",
    "# Drop the null rows\n",
    "#df = df.dropna()\n",
    "df.head()\n",
    "df.shape"
   ]
  },
  {
   "cell_type": "code",
   "execution_count": 3,
   "metadata": {},
   "outputs": [
    {
     "data": {
      "text/plain": [
       "ID                       1778996\n",
       "Severity                 1778996\n",
       "Start_Time               1778996\n",
       "End_Time                 1778996\n",
       "Start_Lat                1778996\n",
       "Start_Lng                1778996\n",
       "Distance(mi)             1778996\n",
       "Description              1778996\n",
       "Street                   1778996\n",
       "Side                     1778996\n",
       "City                     1778996\n",
       "County                   1778996\n",
       "State                    1778996\n",
       "Zipcode                  1778996\n",
       "Country                  1778996\n",
       "Timezone                 1778996\n",
       "Airport_Code             1778996\n",
       "Weather_Timestamp        1778996\n",
       "Temperature(F)           1778996\n",
       "Humidity(%)              1778996\n",
       "Pressure(in)             1778996\n",
       "Visibility(mi)           1778996\n",
       "Wind_Direction           1778996\n",
       "Wind_Speed(mph)          1778996\n",
       "Weather_Condition        1778996\n",
       "Amenity                  1778996\n",
       "Bump                     1778996\n",
       "Crossing                 1778996\n",
       "Give_Way                 1778996\n",
       "Junction                 1778996\n",
       "No_Exit                  1778996\n",
       "Railway                  1778996\n",
       "Roundabout               1778996\n",
       "Station                  1778996\n",
       "Stop                     1778996\n",
       "Traffic_Calming          1778996\n",
       "Traffic_Signal           1778996\n",
       "Turning_Loop             1778996\n",
       "Sunrise_Sunset           1778996\n",
       "Civil_Twilight           1778996\n",
       "Nautical_Twilight        1778996\n",
       "Astronomical_Twilight    1778996\n",
       "diff_minutes             1778996\n",
       "diff_hours               1778996\n",
       "datehour                 1778996\n",
       "dateminute               1778996\n",
       "datemonth                1778996\n",
       "Season                   1778996\n",
       "TimeOfDay                1778996\n",
       "State_Long               1778996\n",
       "Region                   1778996\n",
       "Division                 1778996\n",
       "Climate_Region           1778996\n",
       "dtype: int64"
      ]
     },
     "execution_count": 3,
     "metadata": {},
     "output_type": "execute_result"
    }
   ],
   "source": [
    "df.count()"
   ]
  },
  {
   "cell_type": "code",
   "execution_count": 4,
   "metadata": {},
   "outputs": [
    {
     "data": {
      "text/plain": [
       "Index(['ID', 'Severity', 'Start_Time', 'End_Time', 'Start_Lat', 'Start_Lng',\n",
       "       'Distance(mi)', 'Description', 'Street', 'Side', 'City', 'County',\n",
       "       'State', 'Zipcode', 'Country', 'Timezone', 'Airport_Code',\n",
       "       'Weather_Timestamp', 'Temperature(F)', 'Humidity(%)', 'Pressure(in)',\n",
       "       'Visibility(mi)', 'Wind_Direction', 'Wind_Speed(mph)',\n",
       "       'Weather_Condition', 'Amenity', 'Bump', 'Crossing', 'Give_Way',\n",
       "       'Junction', 'No_Exit', 'Railway', 'Roundabout', 'Station', 'Stop',\n",
       "       'Traffic_Calming', 'Traffic_Signal', 'Turning_Loop', 'Sunrise_Sunset',\n",
       "       'Civil_Twilight', 'Nautical_Twilight', 'Astronomical_Twilight',\n",
       "       'diff_minutes', 'diff_hours', 'datehour', 'dateminute', 'datemonth',\n",
       "       'Season', 'TimeOfDay', 'State_Long', 'Region', 'Division',\n",
       "       'Climate_Region'],\n",
       "      dtype='object')"
      ]
     },
     "execution_count": 4,
     "metadata": {},
     "output_type": "execute_result"
    }
   ],
   "source": [
    "df.columns\n",
    "#df.to_csv(\"clean_data.csv\",index=False)"
   ]
  },
  {
   "cell_type": "code",
   "execution_count": 5,
   "metadata": {},
   "outputs": [],
   "source": [
    "#remove columns with the least amount of information\n",
    "df1=df.drop([\"Airport_Code\", \"Weather_Timestamp\", \"ID\", \"Description\",\"End_Time\", \"Distance(mi)\", \"Country\", \"City\", \n",
    "             \"Timezone\", \"Civil_Twilight\",\"Nautical_Twilight\",\"Astronomical_Twilight\", \"Street\", \"Start_Time\", \n",
    "             \"Start_Lat\", \"Start_Lng\", \"Wind_Direction\", \"State_Long\", \"Region\", \"Division\",\n",
    "            \"diff_minutes\", \"diff_hours\", \"datehour\", \"dateminute\", \"datemonth\"], axis=1)\n",
    "\n"
   ]
  },
  {
   "cell_type": "code",
   "execution_count": 6,
   "metadata": {},
   "outputs": [
    {
     "data": {
      "text/plain": [
       "Index(['Severity', 'Side', 'County', 'State', 'Zipcode', 'Temperature(F)',\n",
       "       'Humidity(%)', 'Pressure(in)', 'Visibility(mi)', 'Wind_Speed(mph)',\n",
       "       'Weather_Condition', 'Amenity', 'Bump', 'Crossing', 'Give_Way',\n",
       "       'Junction', 'No_Exit', 'Railway', 'Roundabout', 'Station', 'Stop',\n",
       "       'Traffic_Calming', 'Traffic_Signal', 'Turning_Loop', 'Sunrise_Sunset',\n",
       "       'Season', 'TimeOfDay', 'Climate_Region'],\n",
       "      dtype='object')"
      ]
     },
     "execution_count": 6,
     "metadata": {},
     "output_type": "execute_result"
    }
   ],
   "source": [
    "df1.columns"
   ]
  },
  {
   "cell_type": "code",
   "execution_count": 7,
   "metadata": {},
   "outputs": [
    {
     "data": {
      "text/html": [
       "<div>\n",
       "<style scoped>\n",
       "    .dataframe tbody tr th:only-of-type {\n",
       "        vertical-align: middle;\n",
       "    }\n",
       "\n",
       "    .dataframe tbody tr th {\n",
       "        vertical-align: top;\n",
       "    }\n",
       "\n",
       "    .dataframe thead th {\n",
       "        text-align: right;\n",
       "    }\n",
       "</style>\n",
       "<table border=\"1\" class=\"dataframe\">\n",
       "  <thead>\n",
       "    <tr style=\"text-align: right;\">\n",
       "      <th></th>\n",
       "      <th>Severity</th>\n",
       "      <th>Side</th>\n",
       "      <th>County</th>\n",
       "      <th>State</th>\n",
       "      <th>Zipcode</th>\n",
       "      <th>Temperature(F)</th>\n",
       "      <th>Humidity(%)</th>\n",
       "      <th>Pressure(in)</th>\n",
       "      <th>Visibility(mi)</th>\n",
       "      <th>Wind_Speed(mph)</th>\n",
       "      <th>...</th>\n",
       "      <th>Roundabout</th>\n",
       "      <th>Station</th>\n",
       "      <th>Stop</th>\n",
       "      <th>Traffic_Calming</th>\n",
       "      <th>Traffic_Signal</th>\n",
       "      <th>Turning_Loop</th>\n",
       "      <th>Sunrise_Sunset</th>\n",
       "      <th>Season</th>\n",
       "      <th>TimeOfDay</th>\n",
       "      <th>Climate_Region</th>\n",
       "    </tr>\n",
       "  </thead>\n",
       "  <tbody>\n",
       "    <tr>\n",
       "      <th>0</th>\n",
       "      <td>2</td>\n",
       "      <td>R</td>\n",
       "      <td>Clermont</td>\n",
       "      <td>OH</td>\n",
       "      <td>45176</td>\n",
       "      <td>36.0</td>\n",
       "      <td>100.0</td>\n",
       "      <td>29.67</td>\n",
       "      <td>10.0</td>\n",
       "      <td>3.5</td>\n",
       "      <td>...</td>\n",
       "      <td>False</td>\n",
       "      <td>False</td>\n",
       "      <td>False</td>\n",
       "      <td>False</td>\n",
       "      <td>True</td>\n",
       "      <td>False</td>\n",
       "      <td>Night</td>\n",
       "      <td>Winter</td>\n",
       "      <td>Morning Rush</td>\n",
       "      <td>Central</td>\n",
       "    </tr>\n",
       "    <tr>\n",
       "      <th>1</th>\n",
       "      <td>3</td>\n",
       "      <td>R</td>\n",
       "      <td>Montgomery</td>\n",
       "      <td>OH</td>\n",
       "      <td>45417</td>\n",
       "      <td>35.1</td>\n",
       "      <td>96.0</td>\n",
       "      <td>29.64</td>\n",
       "      <td>9.0</td>\n",
       "      <td>4.6</td>\n",
       "      <td>...</td>\n",
       "      <td>False</td>\n",
       "      <td>False</td>\n",
       "      <td>False</td>\n",
       "      <td>False</td>\n",
       "      <td>False</td>\n",
       "      <td>False</td>\n",
       "      <td>Night</td>\n",
       "      <td>Winter</td>\n",
       "      <td>Morning Rush</td>\n",
       "      <td>Central</td>\n",
       "    </tr>\n",
       "    <tr>\n",
       "      <th>2</th>\n",
       "      <td>2</td>\n",
       "      <td>R</td>\n",
       "      <td>Montgomery</td>\n",
       "      <td>OH</td>\n",
       "      <td>45459</td>\n",
       "      <td>36.0</td>\n",
       "      <td>89.0</td>\n",
       "      <td>29.65</td>\n",
       "      <td>6.0</td>\n",
       "      <td>3.5</td>\n",
       "      <td>...</td>\n",
       "      <td>False</td>\n",
       "      <td>False</td>\n",
       "      <td>False</td>\n",
       "      <td>False</td>\n",
       "      <td>True</td>\n",
       "      <td>False</td>\n",
       "      <td>Day</td>\n",
       "      <td>Winter</td>\n",
       "      <td>Morning Rush</td>\n",
       "      <td>Central</td>\n",
       "    </tr>\n",
       "    <tr>\n",
       "      <th>3</th>\n",
       "      <td>3</td>\n",
       "      <td>R</td>\n",
       "      <td>Franklin</td>\n",
       "      <td>OH</td>\n",
       "      <td>43081</td>\n",
       "      <td>37.9</td>\n",
       "      <td>97.0</td>\n",
       "      <td>29.63</td>\n",
       "      <td>7.0</td>\n",
       "      <td>3.5</td>\n",
       "      <td>...</td>\n",
       "      <td>False</td>\n",
       "      <td>False</td>\n",
       "      <td>False</td>\n",
       "      <td>False</td>\n",
       "      <td>False</td>\n",
       "      <td>False</td>\n",
       "      <td>Day</td>\n",
       "      <td>Winter</td>\n",
       "      <td>Morning Rush</td>\n",
       "      <td>Central</td>\n",
       "    </tr>\n",
       "    <tr>\n",
       "      <th>4</th>\n",
       "      <td>2</td>\n",
       "      <td>R</td>\n",
       "      <td>Montgomery</td>\n",
       "      <td>OH</td>\n",
       "      <td>45417-2476</td>\n",
       "      <td>34.0</td>\n",
       "      <td>100.0</td>\n",
       "      <td>29.66</td>\n",
       "      <td>7.0</td>\n",
       "      <td>3.5</td>\n",
       "      <td>...</td>\n",
       "      <td>False</td>\n",
       "      <td>False</td>\n",
       "      <td>False</td>\n",
       "      <td>False</td>\n",
       "      <td>False</td>\n",
       "      <td>False</td>\n",
       "      <td>Day</td>\n",
       "      <td>Winter</td>\n",
       "      <td>Morning Rush</td>\n",
       "      <td>Central</td>\n",
       "    </tr>\n",
       "  </tbody>\n",
       "</table>\n",
       "<p>5 rows × 28 columns</p>\n",
       "</div>"
      ],
      "text/plain": [
       "   Severity Side      County State     Zipcode  Temperature(F)  Humidity(%)  \\\n",
       "0         2    R    Clermont    OH       45176            36.0        100.0   \n",
       "1         3    R  Montgomery    OH       45417            35.1         96.0   \n",
       "2         2    R  Montgomery    OH       45459            36.0         89.0   \n",
       "3         3    R    Franklin    OH       43081            37.9         97.0   \n",
       "4         2    R  Montgomery    OH  45417-2476            34.0        100.0   \n",
       "\n",
       "   Pressure(in)  Visibility(mi)  Wind_Speed(mph)  ... Roundabout  Station  \\\n",
       "0         29.67            10.0              3.5  ...      False    False   \n",
       "1         29.64             9.0              4.6  ...      False    False   \n",
       "2         29.65             6.0              3.5  ...      False    False   \n",
       "3         29.63             7.0              3.5  ...      False    False   \n",
       "4         29.66             7.0              3.5  ...      False    False   \n",
       "\n",
       "    Stop  Traffic_Calming  Traffic_Signal  Turning_Loop  Sunrise_Sunset  \\\n",
       "0  False            False            True         False           Night   \n",
       "1  False            False           False         False           Night   \n",
       "2  False            False            True         False             Day   \n",
       "3  False            False           False         False             Day   \n",
       "4  False            False           False         False             Day   \n",
       "\n",
       "   Season     TimeOfDay  Climate_Region  \n",
       "0  Winter  Morning Rush         Central  \n",
       "1  Winter  Morning Rush         Central  \n",
       "2  Winter  Morning Rush         Central  \n",
       "3  Winter  Morning Rush         Central  \n",
       "4  Winter  Morning Rush         Central  \n",
       "\n",
       "[5 rows x 28 columns]"
      ]
     },
     "execution_count": 7,
     "metadata": {},
     "output_type": "execute_result"
    }
   ],
   "source": [
    "df1.head()\n",
    "#df1.to_csv(\"relevant_data.csv\",index=False)"
   ]
  },
  {
   "cell_type": "code",
   "execution_count": 8,
   "metadata": {},
   "outputs": [],
   "source": [
    "#list(df.columns) \n",
    "#df1.dtypes"
   ]
  },
  {
   "cell_type": "markdown",
   "metadata": {},
   "source": [
    "# Select your features (columns)"
   ]
  },
  {
   "cell_type": "code",
   "execution_count": 19,
   "metadata": {},
   "outputs": [],
   "source": [
    "# Set features. This will also be used as your x values.\n",
    "X = df1.drop([\"Severity\",\"Bump\", \"Turning_Loop\",\"Sunrise_Sunset\", \"No_Exit\", \"Zipcode\", \"County\"],axis=1)\n",
    "\n",
    "\n",
    "#\"Give_Way\",\"Traffic_Calming\",\"Roundabout\",\"State\"\n",
    "\n",
    "#removing features did not result in a better score"
   ]
  },
  {
   "cell_type": "markdown",
   "metadata": {},
   "source": [
    "# Select Y\n"
   ]
  },
  {
   "cell_type": "code",
   "execution_count": 20,
   "metadata": {},
   "outputs": [
    {
     "data": {
      "text/plain": [
       "array([2, 3, 1, 4, 0])"
      ]
     },
     "execution_count": 20,
     "metadata": {},
     "output_type": "execute_result"
    }
   ],
   "source": [
    "y = df1[\"Severity\"].values.reshape(-1, 1)\n",
    "\n",
    "df1[\"Severity\"].unique()"
   ]
  },
  {
   "cell_type": "code",
   "execution_count": 21,
   "metadata": {},
   "outputs": [
    {
     "name": "stdout",
     "output_type": "stream",
     "text": [
      "(1778996, 21) (1778996, 1)\n"
     ]
    }
   ],
   "source": [
    "print(X.shape, y.shape)\n"
   ]
  },
  {
   "cell_type": "markdown",
   "metadata": {},
   "source": [
    "### Dummy Encoding (Binary Encoded Data)"
   ]
  },
  {
   "cell_type": "code",
   "execution_count": 22,
   "metadata": {},
   "outputs": [
    {
     "data": {
      "text/html": [
       "<div>\n",
       "<style scoped>\n",
       "    .dataframe tbody tr th:only-of-type {\n",
       "        vertical-align: middle;\n",
       "    }\n",
       "\n",
       "    .dataframe tbody tr th {\n",
       "        vertical-align: top;\n",
       "    }\n",
       "\n",
       "    .dataframe thead th {\n",
       "        text-align: right;\n",
       "    }\n",
       "</style>\n",
       "<table border=\"1\" class=\"dataframe\">\n",
       "  <thead>\n",
       "    <tr style=\"text-align: right;\">\n",
       "      <th></th>\n",
       "      <th>Temperature(F)</th>\n",
       "      <th>Humidity(%)</th>\n",
       "      <th>Pressure(in)</th>\n",
       "      <th>Visibility(mi)</th>\n",
       "      <th>Wind_Speed(mph)</th>\n",
       "      <th>Amenity</th>\n",
       "      <th>Crossing</th>\n",
       "      <th>Give_Way</th>\n",
       "      <th>Junction</th>\n",
       "      <th>Railway</th>\n",
       "      <th>...</th>\n",
       "      <th>Climate_Region_Central</th>\n",
       "      <th>Climate_Region_Midwest</th>\n",
       "      <th>Climate_Region_North Central</th>\n",
       "      <th>Climate_Region_Northeast</th>\n",
       "      <th>Climate_Region_Northwest</th>\n",
       "      <th>Climate_Region_South</th>\n",
       "      <th>Climate_Region_South East</th>\n",
       "      <th>Climate_Region_Southeast</th>\n",
       "      <th>Climate_Region_Southwest</th>\n",
       "      <th>Climate_Region_West</th>\n",
       "    </tr>\n",
       "  </thead>\n",
       "  <tbody>\n",
       "    <tr>\n",
       "      <th>0</th>\n",
       "      <td>36.0</td>\n",
       "      <td>100.0</td>\n",
       "      <td>29.67</td>\n",
       "      <td>10.0</td>\n",
       "      <td>3.5</td>\n",
       "      <td>False</td>\n",
       "      <td>False</td>\n",
       "      <td>False</td>\n",
       "      <td>False</td>\n",
       "      <td>False</td>\n",
       "      <td>...</td>\n",
       "      <td>1</td>\n",
       "      <td>0</td>\n",
       "      <td>0</td>\n",
       "      <td>0</td>\n",
       "      <td>0</td>\n",
       "      <td>0</td>\n",
       "      <td>0</td>\n",
       "      <td>0</td>\n",
       "      <td>0</td>\n",
       "      <td>0</td>\n",
       "    </tr>\n",
       "    <tr>\n",
       "      <th>1</th>\n",
       "      <td>35.1</td>\n",
       "      <td>96.0</td>\n",
       "      <td>29.64</td>\n",
       "      <td>9.0</td>\n",
       "      <td>4.6</td>\n",
       "      <td>False</td>\n",
       "      <td>False</td>\n",
       "      <td>False</td>\n",
       "      <td>False</td>\n",
       "      <td>False</td>\n",
       "      <td>...</td>\n",
       "      <td>1</td>\n",
       "      <td>0</td>\n",
       "      <td>0</td>\n",
       "      <td>0</td>\n",
       "      <td>0</td>\n",
       "      <td>0</td>\n",
       "      <td>0</td>\n",
       "      <td>0</td>\n",
       "      <td>0</td>\n",
       "      <td>0</td>\n",
       "    </tr>\n",
       "    <tr>\n",
       "      <th>2</th>\n",
       "      <td>36.0</td>\n",
       "      <td>89.0</td>\n",
       "      <td>29.65</td>\n",
       "      <td>6.0</td>\n",
       "      <td>3.5</td>\n",
       "      <td>False</td>\n",
       "      <td>False</td>\n",
       "      <td>False</td>\n",
       "      <td>False</td>\n",
       "      <td>False</td>\n",
       "      <td>...</td>\n",
       "      <td>1</td>\n",
       "      <td>0</td>\n",
       "      <td>0</td>\n",
       "      <td>0</td>\n",
       "      <td>0</td>\n",
       "      <td>0</td>\n",
       "      <td>0</td>\n",
       "      <td>0</td>\n",
       "      <td>0</td>\n",
       "      <td>0</td>\n",
       "    </tr>\n",
       "    <tr>\n",
       "      <th>3</th>\n",
       "      <td>37.9</td>\n",
       "      <td>97.0</td>\n",
       "      <td>29.63</td>\n",
       "      <td>7.0</td>\n",
       "      <td>3.5</td>\n",
       "      <td>False</td>\n",
       "      <td>False</td>\n",
       "      <td>False</td>\n",
       "      <td>False</td>\n",
       "      <td>False</td>\n",
       "      <td>...</td>\n",
       "      <td>1</td>\n",
       "      <td>0</td>\n",
       "      <td>0</td>\n",
       "      <td>0</td>\n",
       "      <td>0</td>\n",
       "      <td>0</td>\n",
       "      <td>0</td>\n",
       "      <td>0</td>\n",
       "      <td>0</td>\n",
       "      <td>0</td>\n",
       "    </tr>\n",
       "    <tr>\n",
       "      <th>4</th>\n",
       "      <td>34.0</td>\n",
       "      <td>100.0</td>\n",
       "      <td>29.66</td>\n",
       "      <td>7.0</td>\n",
       "      <td>3.5</td>\n",
       "      <td>False</td>\n",
       "      <td>False</td>\n",
       "      <td>False</td>\n",
       "      <td>False</td>\n",
       "      <td>False</td>\n",
       "      <td>...</td>\n",
       "      <td>1</td>\n",
       "      <td>0</td>\n",
       "      <td>0</td>\n",
       "      <td>0</td>\n",
       "      <td>0</td>\n",
       "      <td>0</td>\n",
       "      <td>0</td>\n",
       "      <td>0</td>\n",
       "      <td>0</td>\n",
       "      <td>0</td>\n",
       "    </tr>\n",
       "  </tbody>\n",
       "</table>\n",
       "<p>5 rows × 101 columns</p>\n",
       "</div>"
      ],
      "text/plain": [
       "   Temperature(F)  Humidity(%)  Pressure(in)  Visibility(mi)  Wind_Speed(mph)  \\\n",
       "0            36.0        100.0         29.67            10.0              3.5   \n",
       "1            35.1         96.0         29.64             9.0              4.6   \n",
       "2            36.0         89.0         29.65             6.0              3.5   \n",
       "3            37.9         97.0         29.63             7.0              3.5   \n",
       "4            34.0        100.0         29.66             7.0              3.5   \n",
       "\n",
       "   Amenity  Crossing  Give_Way  Junction  Railway  ...  \\\n",
       "0    False     False     False     False    False  ...   \n",
       "1    False     False     False     False    False  ...   \n",
       "2    False     False     False     False    False  ...   \n",
       "3    False     False     False     False    False  ...   \n",
       "4    False     False     False     False    False  ...   \n",
       "\n",
       "   Climate_Region_Central  Climate_Region_Midwest  \\\n",
       "0                       1                       0   \n",
       "1                       1                       0   \n",
       "2                       1                       0   \n",
       "3                       1                       0   \n",
       "4                       1                       0   \n",
       "\n",
       "   Climate_Region_North Central  Climate_Region_Northeast  \\\n",
       "0                             0                         0   \n",
       "1                             0                         0   \n",
       "2                             0                         0   \n",
       "3                             0                         0   \n",
       "4                             0                         0   \n",
       "\n",
       "   Climate_Region_Northwest  Climate_Region_South  Climate_Region_South East  \\\n",
       "0                         0                     0                          0   \n",
       "1                         0                     0                          0   \n",
       "2                         0                     0                          0   \n",
       "3                         0                     0                          0   \n",
       "4                         0                     0                          0   \n",
       "\n",
       "   Climate_Region_Southeast  Climate_Region_Southwest  Climate_Region_West  \n",
       "0                         0                         0                    0  \n",
       "1                         0                         0                    0  \n",
       "2                         0                         0                    0  \n",
       "3                         0                         0                    0  \n",
       "4                         0                         0                    0  \n",
       "\n",
       "[5 rows x 101 columns]"
      ]
     },
     "execution_count": 22,
     "metadata": {},
     "output_type": "execute_result"
    }
   ],
   "source": [
    "data = X.copy()\n",
    "X = pd.get_dummies(data)\n",
    "\n",
    "#X.to_csv(\"X.csv\",index=False)\n",
    "X.head()"
   ]
  },
  {
   "cell_type": "markdown",
   "metadata": {},
   "source": [
    "# Create a Train Test Split\n",
    "\n"
   ]
  },
  {
   "cell_type": "code",
   "execution_count": 23,
   "metadata": {},
   "outputs": [
    {
     "data": {
      "text/html": [
       "<div>\n",
       "<style scoped>\n",
       "    .dataframe tbody tr th:only-of-type {\n",
       "        vertical-align: middle;\n",
       "    }\n",
       "\n",
       "    .dataframe tbody tr th {\n",
       "        vertical-align: top;\n",
       "    }\n",
       "\n",
       "    .dataframe thead th {\n",
       "        text-align: right;\n",
       "    }\n",
       "</style>\n",
       "<table border=\"1\" class=\"dataframe\">\n",
       "  <thead>\n",
       "    <tr style=\"text-align: right;\">\n",
       "      <th></th>\n",
       "      <th>Temperature(F)</th>\n",
       "      <th>Humidity(%)</th>\n",
       "      <th>Pressure(in)</th>\n",
       "      <th>Visibility(mi)</th>\n",
       "      <th>Wind_Speed(mph)</th>\n",
       "      <th>Amenity</th>\n",
       "      <th>Crossing</th>\n",
       "      <th>Give_Way</th>\n",
       "      <th>Junction</th>\n",
       "      <th>Railway</th>\n",
       "      <th>...</th>\n",
       "      <th>Climate_Region_Central</th>\n",
       "      <th>Climate_Region_Midwest</th>\n",
       "      <th>Climate_Region_North Central</th>\n",
       "      <th>Climate_Region_Northeast</th>\n",
       "      <th>Climate_Region_Northwest</th>\n",
       "      <th>Climate_Region_South</th>\n",
       "      <th>Climate_Region_South East</th>\n",
       "      <th>Climate_Region_Southeast</th>\n",
       "      <th>Climate_Region_Southwest</th>\n",
       "      <th>Climate_Region_West</th>\n",
       "    </tr>\n",
       "  </thead>\n",
       "  <tbody>\n",
       "    <tr>\n",
       "      <th>1067707</th>\n",
       "      <td>79.0</td>\n",
       "      <td>54.0</td>\n",
       "      <td>30.35</td>\n",
       "      <td>10.0</td>\n",
       "      <td>11.5</td>\n",
       "      <td>False</td>\n",
       "      <td>False</td>\n",
       "      <td>False</td>\n",
       "      <td>False</td>\n",
       "      <td>False</td>\n",
       "      <td>...</td>\n",
       "      <td>0</td>\n",
       "      <td>0</td>\n",
       "      <td>0</td>\n",
       "      <td>0</td>\n",
       "      <td>0</td>\n",
       "      <td>0</td>\n",
       "      <td>0</td>\n",
       "      <td>1</td>\n",
       "      <td>0</td>\n",
       "      <td>0</td>\n",
       "    </tr>\n",
       "    <tr>\n",
       "      <th>1647861</th>\n",
       "      <td>64.4</td>\n",
       "      <td>40.0</td>\n",
       "      <td>29.85</td>\n",
       "      <td>10.0</td>\n",
       "      <td>13.8</td>\n",
       "      <td>False</td>\n",
       "      <td>False</td>\n",
       "      <td>False</td>\n",
       "      <td>False</td>\n",
       "      <td>False</td>\n",
       "      <td>...</td>\n",
       "      <td>0</td>\n",
       "      <td>0</td>\n",
       "      <td>0</td>\n",
       "      <td>0</td>\n",
       "      <td>1</td>\n",
       "      <td>0</td>\n",
       "      <td>0</td>\n",
       "      <td>0</td>\n",
       "      <td>0</td>\n",
       "      <td>0</td>\n",
       "    </tr>\n",
       "    <tr>\n",
       "      <th>798006</th>\n",
       "      <td>91.0</td>\n",
       "      <td>53.0</td>\n",
       "      <td>30.13</td>\n",
       "      <td>10.0</td>\n",
       "      <td>11.5</td>\n",
       "      <td>False</td>\n",
       "      <td>False</td>\n",
       "      <td>False</td>\n",
       "      <td>False</td>\n",
       "      <td>False</td>\n",
       "      <td>...</td>\n",
       "      <td>0</td>\n",
       "      <td>0</td>\n",
       "      <td>0</td>\n",
       "      <td>0</td>\n",
       "      <td>0</td>\n",
       "      <td>0</td>\n",
       "      <td>0</td>\n",
       "      <td>1</td>\n",
       "      <td>0</td>\n",
       "      <td>0</td>\n",
       "    </tr>\n",
       "    <tr>\n",
       "      <th>1583390</th>\n",
       "      <td>44.1</td>\n",
       "      <td>79.0</td>\n",
       "      <td>30.21</td>\n",
       "      <td>10.0</td>\n",
       "      <td>10.4</td>\n",
       "      <td>False</td>\n",
       "      <td>False</td>\n",
       "      <td>False</td>\n",
       "      <td>False</td>\n",
       "      <td>False</td>\n",
       "      <td>...</td>\n",
       "      <td>0</td>\n",
       "      <td>0</td>\n",
       "      <td>0</td>\n",
       "      <td>0</td>\n",
       "      <td>1</td>\n",
       "      <td>0</td>\n",
       "      <td>0</td>\n",
       "      <td>0</td>\n",
       "      <td>0</td>\n",
       "      <td>0</td>\n",
       "    </tr>\n",
       "    <tr>\n",
       "      <th>20499</th>\n",
       "      <td>78.1</td>\n",
       "      <td>43.0</td>\n",
       "      <td>29.75</td>\n",
       "      <td>10.0</td>\n",
       "      <td>9.2</td>\n",
       "      <td>False</td>\n",
       "      <td>False</td>\n",
       "      <td>False</td>\n",
       "      <td>False</td>\n",
       "      <td>False</td>\n",
       "      <td>...</td>\n",
       "      <td>0</td>\n",
       "      <td>0</td>\n",
       "      <td>0</td>\n",
       "      <td>0</td>\n",
       "      <td>0</td>\n",
       "      <td>0</td>\n",
       "      <td>0</td>\n",
       "      <td>0</td>\n",
       "      <td>0</td>\n",
       "      <td>1</td>\n",
       "    </tr>\n",
       "  </tbody>\n",
       "</table>\n",
       "<p>5 rows × 101 columns</p>\n",
       "</div>"
      ],
      "text/plain": [
       "         Temperature(F)  Humidity(%)  Pressure(in)  Visibility(mi)  \\\n",
       "1067707            79.0         54.0         30.35            10.0   \n",
       "1647861            64.4         40.0         29.85            10.0   \n",
       "798006             91.0         53.0         30.13            10.0   \n",
       "1583390            44.1         79.0         30.21            10.0   \n",
       "20499              78.1         43.0         29.75            10.0   \n",
       "\n",
       "         Wind_Speed(mph)  Amenity  Crossing  Give_Way  Junction  Railway  ...  \\\n",
       "1067707             11.5    False     False     False     False    False  ...   \n",
       "1647861             13.8    False     False     False     False    False  ...   \n",
       "798006              11.5    False     False     False     False    False  ...   \n",
       "1583390             10.4    False     False     False     False    False  ...   \n",
       "20499                9.2    False     False     False     False    False  ...   \n",
       "\n",
       "         Climate_Region_Central  Climate_Region_Midwest  \\\n",
       "1067707                       0                       0   \n",
       "1647861                       0                       0   \n",
       "798006                        0                       0   \n",
       "1583390                       0                       0   \n",
       "20499                         0                       0   \n",
       "\n",
       "         Climate_Region_North Central  Climate_Region_Northeast  \\\n",
       "1067707                             0                         0   \n",
       "1647861                             0                         0   \n",
       "798006                              0                         0   \n",
       "1583390                             0                         0   \n",
       "20499                               0                         0   \n",
       "\n",
       "         Climate_Region_Northwest  Climate_Region_South  \\\n",
       "1067707                         0                     0   \n",
       "1647861                         1                     0   \n",
       "798006                          0                     0   \n",
       "1583390                         1                     0   \n",
       "20499                           0                     0   \n",
       "\n",
       "         Climate_Region_South East  Climate_Region_Southeast  \\\n",
       "1067707                          0                         1   \n",
       "1647861                          0                         0   \n",
       "798006                           0                         1   \n",
       "1583390                          0                         0   \n",
       "20499                            0                         0   \n",
       "\n",
       "         Climate_Region_Southwest  Climate_Region_West  \n",
       "1067707                         0                    0  \n",
       "1647861                         0                    0  \n",
       "798006                          0                    0  \n",
       "1583390                         0                    0  \n",
       "20499                           0                    1  \n",
       "\n",
       "[5 rows x 101 columns]"
      ]
     },
     "execution_count": 23,
     "metadata": {},
     "output_type": "execute_result"
    }
   ],
   "source": [
    "from sklearn.model_selection import train_test_split\n",
    "\n",
    "X_train, X_test, y_train, y_test = train_test_split(X, y, random_state=1, stratify=y)\n",
    "\n",
    "X_train.head()"
   ]
  },
  {
   "cell_type": "markdown",
   "metadata": {},
   "source": [
    "# Pre-processing\n",
    "\n",
    "Scale the data using the MinMaxScaler and perform some feature selection"
   ]
  },
  {
   "cell_type": "code",
   "execution_count": 24,
   "metadata": {},
   "outputs": [],
   "source": [
    "# # Scale your data\n",
    "# from sklearn.preprocessing import MinMaxScaler\n",
    "# X_minmax = MinMaxScaler().fit(X_train)\n",
    "\n",
    "# X_train_minmax = X_minmax.transform(X_train)\n",
    "# X_test_minmax = X_minmax.transform(X_test)\n",
    "\n"
   ]
  },
  {
   "cell_type": "markdown",
   "metadata": {},
   "source": [
    "# Train the Model - Random Forest \n",
    "\n"
   ]
  },
  {
   "cell_type": "code",
   "execution_count": 25,
   "metadata": {},
   "outputs": [],
   "source": [
    "from sklearn.ensemble import RandomForestClassifier\n",
    "rf = RandomForestClassifier(n_estimators=20)\n"
   ]
  },
  {
   "cell_type": "code",
   "execution_count": 26,
   "metadata": {},
   "outputs": [
    {
     "data": {
      "text/plain": [
       "RandomForestClassifier(bootstrap=True, ccp_alpha=0.0, class_weight=None,\n",
       "                       criterion='gini', max_depth=None, max_features='auto',\n",
       "                       max_leaf_nodes=None, max_samples=None,\n",
       "                       min_impurity_decrease=0.0, min_impurity_split=None,\n",
       "                       min_samples_leaf=1, min_samples_split=2,\n",
       "                       min_weight_fraction_leaf=0.0, n_estimators=20,\n",
       "                       n_jobs=None, oob_score=False, random_state=None,\n",
       "                       verbose=0, warm_start=False)"
      ]
     },
     "execution_count": 26,
     "metadata": {},
     "output_type": "execute_result"
    }
   ],
   "source": [
    "import numpy as np\n",
    "\n",
    "rf = rf.fit(X_train, np.ravel(y_train,order='C'))\n",
    "rf "
   ]
  },
  {
   "cell_type": "code",
   "execution_count": 27,
   "metadata": {},
   "outputs": [
    {
     "name": "stdout",
     "output_type": "stream",
     "text": [
      "Training Data Score: 0.9568663073628796\n",
      "Testing Data Score: 0.6838329035028746\n"
     ]
    }
   ],
   "source": [
    "print(f\"Training Data Score: {rf.score(X_train, y_train)}\")\n",
    "print(f\"Testing Data Score: {rf.score(X_test, y_test)}\")\n",
    "\n",
    "#predictions with all features \n",
    "# Training Data Score: 0.9579395719083498\n",
    "# Testing Data Score: 0.6836305421709773\n",
    "\n",
    "\n",
    "# removed extra variables\n",
    "# Training Data Score: 0.956130311703905\n",
    "# Testing Data Score: 0.6710481642454508\n",
    "#\"State\",\"Give_Way\",\"Traffic_Calming\", \"Roundabout\",\"Bump\", \"Turning_Loop\", \"Sunrise_Sunset\",\n",
    "    \n",
    "#now removed weather conditon and no exit"
   ]
  },
  {
   "cell_type": "code",
   "execution_count": 56,
   "metadata": {},
   "outputs": [
    {
     "data": {
      "text/plain": [
       "[(0.20654056750470362, 'Pressure(in)'),\n",
       " (0.1943293685831049, 'Temperature(F)'),\n",
       " (0.18708468065796044, 'Humidity(%)'),\n",
       " (0.12787452210684333, 'Wind_Speed(mph)'),\n",
       " (0.040440325069591436, 'Side_L'),\n",
       " (0.03811856129818604, 'Visibility(mi)'),\n",
       " (0.03277566178524719, 'Traffic_Signal'),\n",
       " (0.018683461712898863, 'Side_R'),\n",
       " (0.010587814827786524, 'Crossing'),\n",
       " (0.01005075139195235, 'Junction'),\n",
       " (0.0068250152146066174, 'State_NC'),\n",
       " (0.006012143052768273, 'Season_Fall'),\n",
       " (0.00589035995483643, 'Season_Spring'),\n",
       " (0.005518600555352442, 'State_GA'),\n",
       " (0.005475898780891241, 'Season_Winter'),\n",
       " (0.005168509569212964, 'Weather_Condition_Cloudy'),\n",
       " (0.004971420729189112, 'TimeOfDay_COB Rush'),\n",
       " (0.004637691103521193, 'TimeOfDay_Morning Rush'),\n",
       " (0.004450823791177235, 'Season_Summer'),\n",
       " (0.004332487555892837, 'Weather_Condition_Clear'),\n",
       " (0.004241063205027898, 'TimeOfDay_Afternoon'),\n",
       " (0.004014240264860232, 'TimeOfDay_Lunch'),\n",
       " (0.003506421331404429, 'TimeOfDay_Evening'),\n",
       " (0.0030961806343212557, 'Weather_Condition_Rain'),\n",
       " (0.0029752309938760814, 'TimeOfDay_Night'),\n",
       " (0.0029482534067769646, 'Station'),\n",
       " (0.0027527198902900043, 'State_OR'),\n",
       " (0.0026189522288410276, 'Climate_Region_South'),\n",
       " (0.0025880199430369944, 'Stop'),\n",
       " (0.0024844982784304375, 'Amenity'),\n",
       " (0.0018603919701400819, 'State_OK'),\n",
       " (0.0015904839261150108, 'State_SC'),\n",
       " (0.0015855737269890198, 'Climate_Region_Midwest'),\n",
       " (0.0015823703605502798, 'State_IL'),\n",
       " (0.0014824927961751729, 'State_VA'),\n",
       " (0.001478449568880976, 'State_MN'),\n",
       " (0.0014207686669595078, 'State_PA'),\n",
       " (0.0013474024045970264, 'State_MO'),\n",
       " (0.0013308708440668677, 'State_NY'),\n",
       " (0.0012985568446793293, 'Railway'),\n",
       " (0.0012843724134695028, 'Climate_Region_West'),\n",
       " (0.0012428373055005546, 'Weather_Condition_Fog'),\n",
       " (0.0012263897610349493, 'State_TX'),\n",
       " (0.0012263133801031182, 'Weather_Condition_Snow'),\n",
       " (0.0012211933392003184, 'Climate_Region_Southeast'),\n",
       " (0.0012058948789453218, 'State_MD'),\n",
       " (0.001146222323568009, 'State_KY'),\n",
       " (0.0011136489624775235, 'Climate_Region_Central'),\n",
       " (0.0010975613703335608, 'Climate_Region_Northeast'),\n",
       " (0.000998394363746349, 'State_LA'),\n",
       " (0.0009792948601636778, 'State_OH'),\n",
       " (0.0009537016733100681, 'State_FL'),\n",
       " (0.0009045218815707637, 'State_NJ'),\n",
       " (0.0009040262696106601, 'State_WI'),\n",
       " (0.0009010584118777829, 'State_AZ'),\n",
       " (0.0008793294818617335, 'State_CT'),\n",
       " (0.0008711243953462966, 'State_WA'),\n",
       " (0.0008482795427155697, 'State_CO'),\n",
       " (0.0008337792617553773, 'State_MI'),\n",
       " (0.0008257618404970289, 'Give_Way'),\n",
       " (0.0007829607712192454, 'State_UT'),\n",
       " (0.0007725621357211341, 'State_CA'),\n",
       " (0.0007690761198770436, 'State_MA'),\n",
       " (0.0007579747233138898, 'Weather_Condition_Heavy Rain'),\n",
       " (0.0007234357676531059, 'State_TN'),\n",
       " (0.0007062700486636993, 'Climate_Region_Northwest'),\n",
       " (0.0006951010621789159, 'State_IN'),\n",
       " (0.0006696932764805048, 'State_NH'),\n",
       " (0.0006145104612821625, 'Climate_Region_Southwest'),\n",
       " (0.0005894321461004556, 'Weather_Condition_Thunderstorm'),\n",
       " (0.0005656177266780058, 'State_RI'),\n",
       " (0.00047976849694375025, 'Climate_Region_North Central'),\n",
       " (0.0004271020163188334, 'State_NE'),\n",
       " (0.00040984586124805816, 'State_IA'),\n",
       " (0.00040279783279086544, 'State_ME'),\n",
       " (0.0003736961455508888, 'State_DE'),\n",
       " (0.0003262459065290437, 'State_MS'),\n",
       " (0.0003220890596648839, 'Climate_Region_South East'),\n",
       " (0.0003169487981026994, 'State_AL'),\n",
       " (0.0002732225455586696, 'State_WV'),\n",
       " (0.0002573098889139811, 'State_DC'),\n",
       " (0.0002449278467426603, 'State_NM'),\n",
       " (0.00024220422280844624, 'State_NV'),\n",
       " (0.00023387739140396304, 'State_KS'),\n",
       " (0.00021911511236558827, 'Weather_Condition_Smoke'),\n",
       " (0.0002100591628082715, 'State_AR'),\n",
       " (0.0001760263913223305, 'Weather_Condition_Mist'),\n",
       " (0.0001672155148077264, 'State_ID'),\n",
       " (0.00015504377683474928, 'Weather_Condition_Heavy Snow'),\n",
       " (0.00011674125071530323, 'Traffic_Calming'),\n",
       " (8.865320715707022e-05, 'State_WY'),\n",
       " (7.081524269768453e-05, 'State_VT'),\n",
       " (6.353296191745513e-05, 'Weather_Condition_Ice'),\n",
       " (5.197743441418166e-05, 'State_MT'),\n",
       " (2.7072539906520483e-05, 'Roundabout'),\n",
       " (2.340144134233193e-05, 'Weather_Condition_Dust'),\n",
       " (1.704428277216722e-05, 'State_SD'),\n",
       " (1.0349077296883695e-05, 'State_ND'),\n",
       " (7.94109732758856e-06, 'Weather_Condition_Hail'),\n",
       " (1.6307326299983331e-06, 'Weather_Condition_Sand'),\n",
       " (1.3982731092453505e-06, 'Weather_Condition_Heavy Ice Pellets')]"
      ]
     },
     "execution_count": 56,
     "metadata": {},
     "output_type": "execute_result"
    }
   ],
   "source": [
    "importances = sorted(zip(rf.feature_importances_, X_train.columns), reverse=True)\n",
    "importances"
   ]
  },
  {
   "cell_type": "code",
   "execution_count": 77,
   "metadata": {},
   "outputs": [
    {
     "data": {
      "text/html": [
       "<div>\n",
       "<style scoped>\n",
       "    .dataframe tbody tr th:only-of-type {\n",
       "        vertical-align: middle;\n",
       "    }\n",
       "\n",
       "    .dataframe tbody tr th {\n",
       "        vertical-align: top;\n",
       "    }\n",
       "\n",
       "    .dataframe thead th {\n",
       "        text-align: right;\n",
       "    }\n",
       "</style>\n",
       "<table border=\"1\" class=\"dataframe\">\n",
       "  <thead>\n",
       "    <tr style=\"text-align: right;\">\n",
       "      <th></th>\n",
       "      <th>Importance</th>\n",
       "    </tr>\n",
       "    <tr>\n",
       "      <th>Feature</th>\n",
       "      <th></th>\n",
       "    </tr>\n",
       "  </thead>\n",
       "  <tbody>\n",
       "    <tr>\n",
       "      <th>Pressure(in)</th>\n",
       "      <td>0.206541</td>\n",
       "    </tr>\n",
       "    <tr>\n",
       "      <th>Temperature(F)</th>\n",
       "      <td>0.194329</td>\n",
       "    </tr>\n",
       "    <tr>\n",
       "      <th>Humidity(%)</th>\n",
       "      <td>0.187085</td>\n",
       "    </tr>\n",
       "    <tr>\n",
       "      <th>Wind_Speed(mph)</th>\n",
       "      <td>0.127875</td>\n",
       "    </tr>\n",
       "    <tr>\n",
       "      <th>Side_L</th>\n",
       "      <td>0.040440</td>\n",
       "    </tr>\n",
       "  </tbody>\n",
       "</table>\n",
       "</div>"
      ],
      "text/plain": [
       "                 Importance\n",
       "Feature                    \n",
       "Pressure(in)       0.206541\n",
       "Temperature(F)     0.194329\n",
       "Humidity(%)        0.187085\n",
       "Wind_Speed(mph)    0.127875\n",
       "Side_L             0.040440"
      ]
     },
     "execution_count": 77,
     "metadata": {},
     "output_type": "execute_result"
    }
   ],
   "source": [
    "importances_df = pd.DataFrame(importances, columns = ['Importance' , 'Feature']).set_index('Feature') \n",
    "importances_df.head()\n"
   ]
  },
  {
   "cell_type": "code",
   "execution_count": 81,
   "metadata": {},
   "outputs": [
    {
     "data": {
      "text/plain": [
       "<matplotlib.axes._subplots.AxesSubplot at 0x16b8b6048>"
      ]
     },
     "execution_count": 81,
     "metadata": {},
     "output_type": "execute_result"
    },
    {
     "data": {
      "image/png": "[encoded data removed]",
      "text/plain": [
       "<Figure size 432x288 with 1 Axes>"
      ]
     },
     "metadata": {},
     "output_type": "display_data"
    }
   ],
   "source": [
    "importances_df.head(20).plot(kind=\"bar\")"
   ]
  },
  {
   "cell_type": "code",
   "execution_count": 69,
   "metadata": {},
   "outputs": [
    {
     "data": {
      "text/html": [
       "<div>\n",
       "<style scoped>\n",
       "    .dataframe tbody tr th:only-of-type {\n",
       "        vertical-align: middle;\n",
       "    }\n",
       "\n",
       "    .dataframe tbody tr th {\n",
       "        vertical-align: top;\n",
       "    }\n",
       "\n",
       "    .dataframe thead th {\n",
       "        text-align: right;\n",
       "    }\n",
       "</style>\n",
       "<table border=\"1\" class=\"dataframe\">\n",
       "  <thead>\n",
       "    <tr style=\"text-align: right;\">\n",
       "      <th></th>\n",
       "      <th>Importance</th>\n",
       "      <th>Feature</th>\n",
       "    </tr>\n",
       "  </thead>\n",
       "  <tbody>\n",
       "    <tr>\n",
       "      <th>0</th>\n",
       "      <td>0.206541</td>\n",
       "      <td>Pressure(in)</td>\n",
       "    </tr>\n",
       "    <tr>\n",
       "      <th>1</th>\n",
       "      <td>0.194329</td>\n",
       "      <td>Temperature(F)</td>\n",
       "    </tr>\n",
       "    <tr>\n",
       "      <th>2</th>\n",
       "      <td>0.187085</td>\n",
       "      <td>Humidity(%)</td>\n",
       "    </tr>\n",
       "    <tr>\n",
       "      <th>3</th>\n",
       "      <td>0.127875</td>\n",
       "      <td>Wind_Speed(mph)</td>\n",
       "    </tr>\n",
       "    <tr>\n",
       "      <th>4</th>\n",
       "      <td>0.040440</td>\n",
       "      <td>Side_L</td>\n",
       "    </tr>\n",
       "  </tbody>\n",
       "</table>\n",
       "</div>"
      ],
      "text/plain": [
       "   Importance          Feature\n",
       "0    0.206541     Pressure(in)\n",
       "1    0.194329   Temperature(F)\n",
       "2    0.187085      Humidity(%)\n",
       "3    0.127875  Wind_Speed(mph)\n",
       "4    0.040440           Side_L"
      ]
     },
     "execution_count": 69,
     "metadata": {},
     "output_type": "execute_result"
    }
   ],
   "source": [
    "importances_df_top=importances_df[['Importance','Feature']]\n",
    "\n",
    "importances_df_top= importances_df[(importances_df.Importance>= 0.004)]\n",
    "\n",
    "\n",
    "importances_df_top.head()\n",
    "importances_df_top.plot(kind=\"bar\", figsize=(6,4), align='center', alpha=0.5, color= \"#311B92\" , fontsize=8)\n",
    "\n",
    "# Set a title for the chart\n",
    "plt.title(\"Accidents per Street Side\", fontsize=12)\n",
    "plt.ylabel('Number of Accidents', fontsize=8)\n",
    "plt.xlabel('Side', fontsize=8)\n",
    "\n",
    "plt.show()\n",
    "plt.tight_layout()"
   ]
  },
  {
   "cell_type": "markdown",
   "metadata": {},
   "source": [
    "# Hyperparameter Tuning\n",
    "\n",
    "Use `GridSearchCV` to tune the model's parameters"
   ]
  },
  {
   "cell_type": "code",
   "execution_count": 35,
   "metadata": {},
   "outputs": [],
   "source": [
    "# # Create the GridSearchCV model\n",
    "# from sklearn.model_selection import GridSearchCV\n",
    "# rf_model = RandomForestClassifier()\n"
   ]
  },
  {
   "cell_type": "code",
   "execution_count": 36,
   "metadata": {},
   "outputs": [],
   "source": [
    "# rf_param_grid= {'max_depth':[70,150],\n",
    "#                 'n_estimators':[10,20,50,100,200]}"
   ]
  },
  {
   "cell_type": "code",
   "execution_count": 37,
   "metadata": {
    "scrolled": true
   },
   "outputs": [],
   "source": [
    "# rf_grid = GridSearchCV(rf_model, rf_param_grid, verbose=3)\n",
    "# rf_grid.fit(X_train, np.ravel(y_train,order='C'))\n",
    "# print(\"Done!\")"
   ]
  },
  {
   "cell_type": "markdown",
   "metadata": {},
   "source": [
    "### Random Forest"
   ]
  },
  {
   "cell_type": "code",
   "execution_count": 38,
   "metadata": {},
   "outputs": [],
   "source": [
    "# rf_predictions= rf_grid.predict(X_test)"
   ]
  },
  {
   "cell_type": "code",
   "execution_count": 39,
   "metadata": {},
   "outputs": [],
   "source": [
    "# from sklearn.metrics import classification_report\n",
    "# print(classification_report(y_test, rf_predictions))"
   ]
  },
  {
   "cell_type": "code",
   "execution_count": 40,
   "metadata": {},
   "outputs": [],
   "source": [
    "# print(rf_grid.best_params_)\n",
    "# print(rf_grid.best_score_)"
   ]
  },
  {
   "cell_type": "markdown",
   "metadata": {},
   "source": [
    "# Save the Model"
   ]
  },
  {
   "cell_type": "code",
   "execution_count": 41,
   "metadata": {},
   "outputs": [],
   "source": [
    "# save your model by updating \"your_name\" with your name\n",
    "# and \"your_model\" with your model variable\n",
    "# be sure to turn this in to BCS\n",
    "# if joblib fails to import, try running the command to install in terminal/git-bash\n",
    "\n",
    "\n",
    "\n",
    "# import joblib\n",
    "# filename = 'rf.sav'\n",
    "# joblib.dump(rf_grid, filename)"
   ]
  },
  {
   "cell_type": "markdown",
   "metadata": {},
   "source": [
    "# Train the Model - Logistic Regression"
   ]
  },
  {
   "cell_type": "code",
   "execution_count": 39,
   "metadata": {},
   "outputs": [],
   "source": [
    "# Set features. This will also be used as your x values.\n",
    "\n",
    "X = df1.drop([\"Severity\",\"Bump\", \"Turning_Loop\",\"Sunrise_Sunset\", \"No_Exit\", \"Zipcode\", \"County\"],axis=1)\n",
    "\n",
    "y = df1[\"Severity\"].values.reshape(-1, 1)\n",
    "\n",
    "\n",
    "#removing features did not result in a better score"
   ]
  },
  {
   "cell_type": "code",
   "execution_count": 40,
   "metadata": {},
   "outputs": [],
   "source": [
    "data = X.copy()\n",
    "X = pd.get_dummies(data)\n",
    "\n",
    "#X.to_csv(\"X.csv\",index=False)\n",
    "#X.head()"
   ]
  },
  {
   "cell_type": "code",
   "execution_count": 41,
   "metadata": {},
   "outputs": [],
   "source": [
    "from sklearn.model_selection import train_test_split\n",
    "\n",
    "X_train, X_test, y_train, y_test = train_test_split(X, y, random_state=1, stratify=y)\n",
    "\n",
    "#X_train.head()"
   ]
  },
  {
   "cell_type": "code",
   "execution_count": 42,
   "metadata": {},
   "outputs": [],
   "source": [
    "# # Scale your data\n",
    "from sklearn.preprocessing import MinMaxScaler\n",
    "X_minmax = MinMaxScaler().fit(X_train)\n",
    "\n",
    "X_train_minmax = X_minmax.transform(X_train)\n",
    "X_test_minmax = X_minmax.transform(X_test)"
   ]
  },
  {
   "cell_type": "code",
   "execution_count": 43,
   "metadata": {},
   "outputs": [
    {
     "data": {
      "text/plain": [
       "LogisticRegression(C=1.0, class_weight=None, dual=False, fit_intercept=True,\n",
       "                   intercept_scaling=1, l1_ratio=None, max_iter=100,\n",
       "                   multi_class='auto', n_jobs=None, penalty='l2',\n",
       "                   random_state=None, solver='lbfgs', tol=0.0001, verbose=0,\n",
       "                   warm_start=False)"
      ]
     },
     "execution_count": 43,
     "metadata": {},
     "output_type": "execute_result"
    }
   ],
   "source": [
    "from sklearn.linear_model import LogisticRegression\n",
    "classifier = LogisticRegression()\n",
    "classifier"
   ]
  },
  {
   "cell_type": "code",
   "execution_count": 44,
   "metadata": {},
   "outputs": [
    {
     "name": "stderr",
     "output_type": "stream",
     "text": [
      "/anaconda3/lib/python3.7/site-packages/sklearn/linear_model/_logistic.py:939: ConvergenceWarning: lbfgs failed to converge (status=1):\n",
      "STOP: TOTAL NO. of ITERATIONS REACHED LIMIT.\n",
      "\n",
      "Increase the number of iterations (max_iter) or scale the data as shown in:\n",
      "    https://scikit-learn.org/stable/modules/preprocessing.html.\n",
      "Please also refer to the documentation for alternative solver options:\n",
      "    https://scikit-learn.org/stable/modules/linear_model.html#logistic-regression\n",
      "  extra_warning_msg=_LOGISTIC_SOLVER_CONVERGENCE_MSG)\n"
     ]
    },
    {
     "data": {
      "text/plain": [
       "LogisticRegression(C=1.0, class_weight=None, dual=False, fit_intercept=True,\n",
       "                   intercept_scaling=1, l1_ratio=None, max_iter=100,\n",
       "                   multi_class='auto', n_jobs=None, penalty='l2',\n",
       "                   random_state=None, solver='lbfgs', tol=0.0001, verbose=0,\n",
       "                   warm_start=False)"
      ]
     },
     "execution_count": 44,
     "metadata": {},
     "output_type": "execute_result"
    }
   ],
   "source": [
    "classifier.fit(X_train_minmax, np.ravel(y_train,order='C'))"
   ]
  },
  {
   "cell_type": "code",
   "execution_count": 45,
   "metadata": {},
   "outputs": [
    {
     "name": "stdout",
     "output_type": "stream",
     "text": [
      "Training Data Score: 0.675514353789066\n",
      "Testing Data Score: 0.6760757191134775\n"
     ]
    }
   ],
   "source": [
    "print(f\"Training Data Score: {classifier.score(X_train_minmax, y_train)}\")\n",
    "print(f\"Testing Data Score: {classifier.score(X_test_minmax, y_test)}\")"
   ]
  },
  {
   "cell_type": "code",
   "execution_count": 46,
   "metadata": {},
   "outputs": [
    {
     "name": "stdout",
     "output_type": "stream",
     "text": [
      "First 10 Predictions:   [2 2 2 2 3 3 3 2 2 2]\n",
      "First 10 Actual labels: [[3], [2], [2], [2], [2], [2], [2], [3], [2], [2]]\n"
     ]
    }
   ],
   "source": [
    "predictions = classifier.predict(X_test_minmax)\n",
    "print(f\"First 10 Predictions:   {predictions[:10]}\")\n",
    "print(f\"First 10 Actual labels: {y_test[:10].tolist()}\")"
   ]
  },
  {
   "cell_type": "markdown",
   "metadata": {},
   "source": [
    "### Hyper Parameter Tuning"
   ]
  },
  {
   "cell_type": "code",
   "execution_count": 146,
   "metadata": {},
   "outputs": [],
   "source": [
    "# Create the GridSearchCV model\n",
    "# from sklearn.model_selection import GridSearchCV\n",
    "# dt_model = tree.DecisionTreeClassifier()"
   ]
  },
  {
   "cell_type": "code",
   "execution_count": 163,
   "metadata": {},
   "outputs": [],
   "source": [
    "dt_param_grid = {'max_depth':[10,20], 'min_samples_leaf':[10,20,100]}"
   ]
  },
  {
   "cell_type": "code",
   "execution_count": 164,
   "metadata": {},
   "outputs": [
    {
     "name": "stdout",
     "output_type": "stream",
     "text": [
      "Fitting 5 folds for each of 6 candidates, totalling 30 fits\n"
     ]
    },
    {
     "name": "stderr",
     "output_type": "stream",
     "text": [
      "[Parallel(n_jobs=1)]: Using backend SequentialBackend with 1 concurrent workers.\n"
     ]
    },
    {
     "name": "stdout",
     "output_type": "stream",
     "text": [
      "[CV] max_depth=10, min_samples_leaf=10 ...............................\n",
      "[CV] ... max_depth=10, min_samples_leaf=10, score=0.652, total=   6.9s\n",
      "[CV] max_depth=10, min_samples_leaf=10 ...............................\n"
     ]
    },
    {
     "name": "stderr",
     "output_type": "stream",
     "text": [
      "[Parallel(n_jobs=1)]: Done   1 out of   1 | elapsed:    6.9s remaining:    0.0s\n"
     ]
    },
    {
     "name": "stdout",
     "output_type": "stream",
     "text": [
      "[CV] ... max_depth=10, min_samples_leaf=10, score=0.652, total=   6.1s\n",
      "[CV] max_depth=10, min_samples_leaf=10 ...............................\n"
     ]
    },
    {
     "name": "stderr",
     "output_type": "stream",
     "text": [
      "[Parallel(n_jobs=1)]: Done   2 out of   2 | elapsed:   13.0s remaining:    0.0s\n"
     ]
    },
    {
     "name": "stdout",
     "output_type": "stream",
     "text": [
      "[CV] ... max_depth=10, min_samples_leaf=10, score=0.652, total=   6.4s\n",
      "[CV] max_depth=10, min_samples_leaf=10 ...............................\n",
      "[CV] ... max_depth=10, min_samples_leaf=10, score=0.653, total=   5.6s\n",
      "[CV] max_depth=10, min_samples_leaf=10 ...............................\n",
      "[CV] ... max_depth=10, min_samples_leaf=10, score=0.653, total=   6.4s\n",
      "[CV] max_depth=10, min_samples_leaf=20 ...............................\n",
      "[CV] ... max_depth=10, min_samples_leaf=20, score=0.652, total=   6.4s\n",
      "[CV] max_depth=10, min_samples_leaf=20 ...............................\n",
      "[CV] ... max_depth=10, min_samples_leaf=20, score=0.652, total=   6.3s\n",
      "[CV] max_depth=10, min_samples_leaf=20 ...............................\n",
      "[CV] ... max_depth=10, min_samples_leaf=20, score=0.652, total=   6.3s\n",
      "[CV] max_depth=10, min_samples_leaf=20 ...............................\n",
      "[CV] ... max_depth=10, min_samples_leaf=20, score=0.653, total=   6.4s\n",
      "[CV] max_depth=10, min_samples_leaf=20 ...............................\n",
      "[CV] ... max_depth=10, min_samples_leaf=20, score=0.653, total=   6.3s\n",
      "[CV] max_depth=10, min_samples_leaf=100 ..............................\n",
      "[CV] .. max_depth=10, min_samples_leaf=100, score=0.652, total=   6.4s\n",
      "[CV] max_depth=10, min_samples_leaf=100 ..............................\n",
      "[CV] .. max_depth=10, min_samples_leaf=100, score=0.652, total=   6.3s\n",
      "[CV] max_depth=10, min_samples_leaf=100 ..............................\n",
      "[CV] .. max_depth=10, min_samples_leaf=100, score=0.652, total=   6.3s\n",
      "[CV] max_depth=10, min_samples_leaf=100 ..............................\n",
      "[CV] .. max_depth=10, min_samples_leaf=100, score=0.653, total=   6.6s\n",
      "[CV] max_depth=10, min_samples_leaf=100 ..............................\n",
      "[CV] .. max_depth=10, min_samples_leaf=100, score=0.653, total=   6.4s\n",
      "[CV] max_depth=20, min_samples_leaf=10 ...............................\n",
      "[CV] ... max_depth=20, min_samples_leaf=10, score=0.651, total=   9.5s\n",
      "[CV] max_depth=20, min_samples_leaf=10 ...............................\n",
      "[CV] ... max_depth=20, min_samples_leaf=10, score=0.650, total=   9.5s\n",
      "[CV] max_depth=20, min_samples_leaf=10 ...............................\n",
      "[CV] ... max_depth=20, min_samples_leaf=10, score=0.650, total=   9.8s\n",
      "[CV] max_depth=20, min_samples_leaf=10 ...............................\n",
      "[CV] ... max_depth=20, min_samples_leaf=10, score=0.650, total=   9.6s\n",
      "[CV] max_depth=20, min_samples_leaf=10 ...............................\n",
      "[CV] ... max_depth=20, min_samples_leaf=10, score=0.650, total=   9.4s\n",
      "[CV] max_depth=20, min_samples_leaf=20 ...............................\n",
      "[CV] ... max_depth=20, min_samples_leaf=20, score=0.651, total=   9.5s\n",
      "[CV] max_depth=20, min_samples_leaf=20 ...............................\n",
      "[CV] ... max_depth=20, min_samples_leaf=20, score=0.651, total=   9.5s\n",
      "[CV] max_depth=20, min_samples_leaf=20 ...............................\n",
      "[CV] ... max_depth=20, min_samples_leaf=20, score=0.651, total=   9.4s\n",
      "[CV] max_depth=20, min_samples_leaf=20 ...............................\n",
      "[CV] ... max_depth=20, min_samples_leaf=20, score=0.651, total=   9.5s\n",
      "[CV] max_depth=20, min_samples_leaf=20 ...............................\n",
      "[CV] ... max_depth=20, min_samples_leaf=20, score=0.650, total=   9.4s\n",
      "[CV] max_depth=20, min_samples_leaf=100 ..............................\n",
      "[CV] .. max_depth=20, min_samples_leaf=100, score=0.651, total=   9.2s\n",
      "[CV] max_depth=20, min_samples_leaf=100 ..............................\n",
      "[CV] .. max_depth=20, min_samples_leaf=100, score=0.651, total=   9.3s\n",
      "[CV] max_depth=20, min_samples_leaf=100 ..............................\n",
      "[CV] .. max_depth=20, min_samples_leaf=100, score=0.650, total=   9.2s\n",
      "[CV] max_depth=20, min_samples_leaf=100 ..............................\n",
      "[CV] .. max_depth=20, min_samples_leaf=100, score=0.651, total=   9.2s\n",
      "[CV] max_depth=20, min_samples_leaf=100 ..............................\n",
      "[CV] .. max_depth=20, min_samples_leaf=100, score=0.650, total=   9.5s\n"
     ]
    },
    {
     "name": "stderr",
     "output_type": "stream",
     "text": [
      "[Parallel(n_jobs=1)]: Done  30 out of  30 | elapsed:  4.0min finished\n"
     ]
    },
    {
     "name": "stdout",
     "output_type": "stream",
     "text": [
      "Done!\n"
     ]
    }
   ],
   "source": [
    "dt_grid = GridSearchCV(dt_model, dt_param_grid, verbose=3)\n",
    "dt_grid.fit(X_train, y_train)\n",
    "print(\"Done!\")"
   ]
  },
  {
   "cell_type": "code",
   "execution_count": 165,
   "metadata": {},
   "outputs": [],
   "source": [
    "dt_predictions= dt_grid.predict(X_test)"
   ]
  },
  {
   "cell_type": "code",
   "execution_count": 166,
   "metadata": {},
   "outputs": [
    {
     "name": "stderr",
     "output_type": "stream",
     "text": [
      "/anaconda3/lib/python3.7/site-packages/sklearn/metrics/_classification.py:1268: UndefinedMetricWarning: Precision and F-score are ill-defined and being set to 0.0 in labels with no predicted samples. Use `zero_division` parameter to control this behavior.\n",
      "  _warn_prf(average, modifier, msg_start, len(result))\n"
     ]
    },
    {
     "name": "stdout",
     "output_type": "stream",
     "text": [
      "              precision    recall  f1-score   support\n",
      "\n",
      "           0       0.00      0.00      0.00         4\n",
      "           1       0.00      0.00      0.00       161\n",
      "           2       0.66      0.95      0.78    289662\n",
      "           3       0.48      0.11      0.17    141635\n",
      "           4       0.00      0.00      0.00     13577\n",
      "\n",
      "    accuracy                           0.65    445039\n",
      "   macro avg       0.23      0.21      0.19    445039\n",
      "weighted avg       0.59      0.65      0.56    445039\n",
      "\n"
     ]
    }
   ],
   "source": [
    "from sklearn.metrics import classification_report\n",
    "print(classification_report(y_test, dt_predictions))"
   ]
  },
  {
   "cell_type": "code",
   "execution_count": 167,
   "metadata": {},
   "outputs": [
    {
     "name": "stdout",
     "output_type": "stream",
     "text": [
      "{'max_depth': 10, 'min_samples_leaf': 20}\n",
      "0.6526511556899915\n"
     ]
    }
   ],
   "source": [
    "print(dt_grid.best_params_)\n",
    "print(dt_grid.best_score_)"
   ]
  },
  {
   "cell_type": "code",
   "execution_count": 178,
   "metadata": {},
   "outputs": [
    {
     "name": "stdout",
     "output_type": "stream",
     "text": [
      "Training Data Score: 0.6530900685783108\n",
      "Testing Data Score: 0.6521720568309743\n"
     ]
    }
   ],
   "source": [
    "print(f\"Training Data Score: {dt_grid.score(X_train, y_train)}\")\n",
    "print(f\"Testing Data Score: {dt_grid.score(X_test, y_test)}\")"
   ]
  },
  {
   "cell_type": "markdown",
   "metadata": {},
   "source": []
  }
 ],
 "metadata": {
  "kernel_info": {
   "name": "dev"
  },
  "kernelspec": {
   "display_name": "Python 3",
   "language": "python",
   "name": "python3"
  },
  "language_info": {
   "codemirror_mode": {
    "name": "ipython",
    "version": 3
   },
   "file_extension": ".py",
   "mimetype": "text/x-python",
   "name": "python",
   "nbconvert_exporter": "python",
   "pygments_lexer": "ipython3",
   "version": "3.7.3"
  },
  "nteract": {
   "version": "0.12.3"
  }
 },
 "nbformat": 4,
 "nbformat_minor": 2
}
