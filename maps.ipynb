{
 "cells": [
  {
   "cell_type": "code",
   "execution_count": 1,
   "metadata": {},
   "outputs": [],
   "source": [
    "# Update sklearn to prevent version mismatches\n",
    "#!pip install sklearn --upgrade"
   ]
  },
  {
   "cell_type": "code",
   "execution_count": 2,
   "metadata": {},
   "outputs": [],
   "source": [
    "# install joblib. This will be used to save your model. \n",
    "# Restart your kernel after installing \n",
    "#!pip install joblib"
   ]
  },
  {
   "cell_type": "code",
   "execution_count": 1,
   "metadata": {},
   "outputs": [],
   "source": [
    "import pandas as pd\n",
    "import matplotlib.pyplot as plt\n",
    "import numpy as np"
   ]
  },
  {
   "cell_type": "markdown",
   "metadata": {},
   "source": [
    "# Read the CSV and Perform Basic Data Cleaning"
   ]
  },
  {
   "cell_type": "code",
   "execution_count": 2,
   "metadata": {},
   "outputs": [
    {
     "data": {
      "text/plain": [
       "(2243939, 49)"
      ]
     },
     "execution_count": 2,
     "metadata": {},
     "output_type": "execute_result"
    }
   ],
   "source": [
    "df = pd.read_csv(\"US_Accidents_May19.csv\")\n",
    "# Drop the null columns where all values are null\n",
    "df = df.dropna(axis='columns', how='all')\n",
    "# Drop the null rows\n",
    "#df = df.dropna()\n",
    "df.head()\n",
    "df.shape"
   ]
  },
  {
   "cell_type": "code",
   "execution_count": 3,
   "metadata": {},
   "outputs": [
    {
     "data": {
      "text/plain": [
       "ID                       2243939\n",
       "Source                   2243939\n",
       "TMC                      1727177\n",
       "Severity                 2243939\n",
       "Start_Time               2243939\n",
       "End_Time                 2243939\n",
       "Start_Lat                2243939\n",
       "Start_Lng                2243939\n",
       "End_Lat                   516762\n",
       "End_Lng                   516762\n",
       "Distance(mi)             2243939\n",
       "Description              2243938\n",
       "Number                    785537\n",
       "Street                   2243939\n",
       "Side                     2243939\n",
       "City                     2243871\n",
       "County                   2243939\n",
       "State                    2243939\n",
       "Zipcode                  2243293\n",
       "Country                  2243939\n",
       "Timezone                 2241798\n",
       "Airport_Code             2220275\n",
       "Weather_Timestamp        2196769\n",
       "Temperature(F)           2181674\n",
       "Wind_Chill(F)             391569\n",
       "Humidity(%)              2179472\n",
       "Pressure(in)             2186659\n",
       "Visibility(mi)           2172579\n",
       "Wind_Direction           2196749\n",
       "Wind_Speed(mph)          1800985\n",
       "Precipitation(in)         264473\n",
       "Weather_Condition        2171935\n",
       "Amenity                  2243939\n",
       "Bump                     2243939\n",
       "Crossing                 2243939\n",
       "Give_Way                 2243939\n",
       "Junction                 2243939\n",
       "No_Exit                  2243939\n",
       "Railway                  2243939\n",
       "Roundabout               2243939\n",
       "Station                  2243939\n",
       "Stop                     2243939\n",
       "Traffic_Calming          2243939\n",
       "Traffic_Signal           2243939\n",
       "Turning_Loop             2243939\n",
       "Sunrise_Sunset           2243861\n",
       "Civil_Twilight           2243861\n",
       "Nautical_Twilight        2243861\n",
       "Astronomical_Twilight    2243861\n",
       "dtype: int64"
      ]
     },
     "execution_count": 3,
     "metadata": {},
     "output_type": "execute_result"
    }
   ],
   "source": [
    "df.count()\n"
   ]
  },
  {
   "cell_type": "code",
   "execution_count": 4,
   "metadata": {},
   "outputs": [],
   "source": [
    "#remove columns with the least amount of information\n",
    "df1=df.drop([ \"Number\", \"Wind_Chill(F)\", \"Precipitation(in)\", \"Airport_Code\", \"Weather_Timestamp\", \"ID\",\n",
    "             \"Source\", \"Description\", \"TMC\", \"End_Time\", \"Distance(mi)\", \"Zipcode\", \"Country\", \"City\", \n",
    "             \"County\", \"Timezone\", \"Civil_Twilight\",\"Nautical_Twilight\",\"Astronomical_Twilight\", \"Street\",\n",
    "             \"Amenity\", \"Bump\", \"Crossing\", \"Give_Way\" , \"Give_Way\", \"No_Exit\", \"Railway\", \"Roundabout\", \"Station\",\n",
    "             \"Stop\", \"Traffic_Calming\", \"Traffic_Signal\", \"Turning_Loop\", \"Sunrise_Sunset\", \"End_Lat\", \"End_Lng\" , \"Junction\"], axis=1)\n",
    "             \n",
    "            \n",
    "\n",
    "\n"
   ]
  },
  {
   "cell_type": "code",
   "execution_count": 5,
   "metadata": {
    "scrolled": true
   },
   "outputs": [
    {
     "data": {
      "text/plain": [
       "Severity             1780210\n",
       "Start_Time           1780210\n",
       "Start_Lat            1780210\n",
       "Start_Lng            1780210\n",
       "Side                 1780210\n",
       "State                1780210\n",
       "Temperature(F)       1780210\n",
       "Humidity(%)          1780210\n",
       "Pressure(in)         1780210\n",
       "Visibility(mi)       1780210\n",
       "Wind_Direction       1780210\n",
       "Wind_Speed(mph)      1780210\n",
       "Weather_Condition    1780210\n",
       "dtype: int64"
      ]
     },
     "execution_count": 5,
     "metadata": {},
     "output_type": "execute_result"
    }
   ],
   "source": [
    "df1 = df1.dropna()\n",
    "df1.count()\n"
   ]
  },
  {
   "cell_type": "code",
   "execution_count": 8,
   "metadata": {},
   "outputs": [],
   "source": [
    "df1.head()\n",
    "df1.to_csv(\"maps_data.csv\",index=False)\n"
   ]
  },
  {
   "cell_type": "code",
   "execution_count": 7,
   "metadata": {},
   "outputs": [],
   "source": [
    "df1.to_json(\"maps.json\", orient='records')"
   ]
  },
  {
   "cell_type": "code",
   "execution_count": 9,
   "metadata": {},
   "outputs": [
    {
     "data": {
      "text/plain": [
       "Severity               int64\n",
       "Start_Time            object\n",
       "Start_Lat            float64\n",
       "Start_Lng            float64\n",
       "Side                  object\n",
       "State                 object\n",
       "Temperature(F)       float64\n",
       "Humidity(%)          float64\n",
       "Pressure(in)         float64\n",
       "Visibility(mi)       float64\n",
       "Wind_Direction        object\n",
       "Wind_Speed(mph)      float64\n",
       "Weather_Condition     object\n",
       "dtype: object"
      ]
     },
     "execution_count": 9,
     "metadata": {},
     "output_type": "execute_result"
    }
   ],
   "source": [
    "#list(df.columns) \n",
    "feature_names = df1.columns\n",
    "df1.dtypes"
   ]
  },
  {
   "cell_type": "markdown",
   "metadata": {},
   "source": [
    "# Select your features (columns)"
   ]
  },
  {
   "cell_type": "code",
   "execution_count": 11,
   "metadata": {},
   "outputs": [],
   "source": [
    "# Set features. This will also be used as your x values.\n",
    "X = df1.drop([\"Severity\", \"State\", \"Start_Time\",\"Start_Lat\", \"Start_Lng\"],axis=1)\n",
    "\n",
    "#removing features did not result in a better score"
   ]
  },
  {
   "cell_type": "markdown",
   "metadata": {},
   "source": [
    "# Select Y\n"
   ]
  },
  {
   "cell_type": "code",
   "execution_count": 12,
   "metadata": {},
   "outputs": [],
   "source": [
    "y = df1[\"Severity\"].values.reshape(-1, 1)\n"
   ]
  },
  {
   "cell_type": "code",
   "execution_count": 13,
   "metadata": {},
   "outputs": [
    {
     "name": "stdout",
     "output_type": "stream",
     "text": [
      "(1780210, 8) (1780210, 1)\n"
     ]
    }
   ],
   "source": [
    "print(X.shape, y.shape)\n"
   ]
  },
  {
   "cell_type": "markdown",
   "metadata": {},
   "source": [
    "### Dummy Encoding (Binary Encoded Data)"
   ]
  },
  {
   "cell_type": "code",
   "execution_count": 14,
   "metadata": {},
   "outputs": [
    {
     "data": {
      "text/html": [
       "<div>\n",
       "<style scoped>\n",
       "    .dataframe tbody tr th:only-of-type {\n",
       "        vertical-align: middle;\n",
       "    }\n",
       "\n",
       "    .dataframe tbody tr th {\n",
       "        vertical-align: top;\n",
       "    }\n",
       "\n",
       "    .dataframe thead th {\n",
       "        text-align: right;\n",
       "    }\n",
       "</style>\n",
       "<table border=\"1\" class=\"dataframe\">\n",
       "  <thead>\n",
       "    <tr style=\"text-align: right;\">\n",
       "      <th></th>\n",
       "      <th>Temperature(F)</th>\n",
       "      <th>Humidity(%)</th>\n",
       "      <th>Pressure(in)</th>\n",
       "      <th>Visibility(mi)</th>\n",
       "      <th>Wind_Speed(mph)</th>\n",
       "      <th>Side_</th>\n",
       "      <th>Side_L</th>\n",
       "      <th>Side_R</th>\n",
       "      <th>Wind_Direction_ENE</th>\n",
       "      <th>Wind_Direction_ESE</th>\n",
       "      <th>...</th>\n",
       "      <th>Weather_Condition_Small Hail</th>\n",
       "      <th>Weather_Condition_Smoke</th>\n",
       "      <th>Weather_Condition_Snow</th>\n",
       "      <th>Weather_Condition_Snow Grains</th>\n",
       "      <th>Weather_Condition_Snow Showers</th>\n",
       "      <th>Weather_Condition_Squalls</th>\n",
       "      <th>Weather_Condition_Thunderstorm</th>\n",
       "      <th>Weather_Condition_Thunderstorms and Rain</th>\n",
       "      <th>Weather_Condition_Thunderstorms and Snow</th>\n",
       "      <th>Weather_Condition_Widespread Dust</th>\n",
       "    </tr>\n",
       "  </thead>\n",
       "  <tbody>\n",
       "    <tr>\n",
       "      <th>2</th>\n",
       "      <td>36.0</td>\n",
       "      <td>100.0</td>\n",
       "      <td>29.67</td>\n",
       "      <td>10.0</td>\n",
       "      <td>3.5</td>\n",
       "      <td>0</td>\n",
       "      <td>0</td>\n",
       "      <td>1</td>\n",
       "      <td>0</td>\n",
       "      <td>0</td>\n",
       "      <td>...</td>\n",
       "      <td>0</td>\n",
       "      <td>0</td>\n",
       "      <td>0</td>\n",
       "      <td>0</td>\n",
       "      <td>0</td>\n",
       "      <td>0</td>\n",
       "      <td>0</td>\n",
       "      <td>0</td>\n",
       "      <td>0</td>\n",
       "      <td>0</td>\n",
       "    </tr>\n",
       "    <tr>\n",
       "      <th>3</th>\n",
       "      <td>35.1</td>\n",
       "      <td>96.0</td>\n",
       "      <td>29.64</td>\n",
       "      <td>9.0</td>\n",
       "      <td>4.6</td>\n",
       "      <td>0</td>\n",
       "      <td>0</td>\n",
       "      <td>1</td>\n",
       "      <td>0</td>\n",
       "      <td>0</td>\n",
       "      <td>...</td>\n",
       "      <td>0</td>\n",
       "      <td>0</td>\n",
       "      <td>0</td>\n",
       "      <td>0</td>\n",
       "      <td>0</td>\n",
       "      <td>0</td>\n",
       "      <td>0</td>\n",
       "      <td>0</td>\n",
       "      <td>0</td>\n",
       "      <td>0</td>\n",
       "    </tr>\n",
       "    <tr>\n",
       "      <th>4</th>\n",
       "      <td>36.0</td>\n",
       "      <td>89.0</td>\n",
       "      <td>29.65</td>\n",
       "      <td>6.0</td>\n",
       "      <td>3.5</td>\n",
       "      <td>0</td>\n",
       "      <td>0</td>\n",
       "      <td>1</td>\n",
       "      <td>0</td>\n",
       "      <td>0</td>\n",
       "      <td>...</td>\n",
       "      <td>0</td>\n",
       "      <td>0</td>\n",
       "      <td>0</td>\n",
       "      <td>0</td>\n",
       "      <td>0</td>\n",
       "      <td>0</td>\n",
       "      <td>0</td>\n",
       "      <td>0</td>\n",
       "      <td>0</td>\n",
       "      <td>0</td>\n",
       "    </tr>\n",
       "    <tr>\n",
       "      <th>5</th>\n",
       "      <td>37.9</td>\n",
       "      <td>97.0</td>\n",
       "      <td>29.63</td>\n",
       "      <td>7.0</td>\n",
       "      <td>3.5</td>\n",
       "      <td>0</td>\n",
       "      <td>0</td>\n",
       "      <td>1</td>\n",
       "      <td>0</td>\n",
       "      <td>0</td>\n",
       "      <td>...</td>\n",
       "      <td>0</td>\n",
       "      <td>0</td>\n",
       "      <td>0</td>\n",
       "      <td>0</td>\n",
       "      <td>0</td>\n",
       "      <td>0</td>\n",
       "      <td>0</td>\n",
       "      <td>0</td>\n",
       "      <td>0</td>\n",
       "      <td>0</td>\n",
       "    </tr>\n",
       "    <tr>\n",
       "      <th>6</th>\n",
       "      <td>34.0</td>\n",
       "      <td>100.0</td>\n",
       "      <td>29.66</td>\n",
       "      <td>7.0</td>\n",
       "      <td>3.5</td>\n",
       "      <td>0</td>\n",
       "      <td>0</td>\n",
       "      <td>1</td>\n",
       "      <td>0</td>\n",
       "      <td>0</td>\n",
       "      <td>...</td>\n",
       "      <td>0</td>\n",
       "      <td>0</td>\n",
       "      <td>0</td>\n",
       "      <td>0</td>\n",
       "      <td>0</td>\n",
       "      <td>0</td>\n",
       "      <td>0</td>\n",
       "      <td>0</td>\n",
       "      <td>0</td>\n",
       "      <td>0</td>\n",
       "    </tr>\n",
       "  </tbody>\n",
       "</table>\n",
       "<p>5 rows × 83 columns</p>\n",
       "</div>"
      ],
      "text/plain": [
       "   Temperature(F)  Humidity(%)  Pressure(in)  Visibility(mi)  Wind_Speed(mph)  \\\n",
       "2            36.0        100.0         29.67            10.0              3.5   \n",
       "3            35.1         96.0         29.64             9.0              4.6   \n",
       "4            36.0         89.0         29.65             6.0              3.5   \n",
       "5            37.9         97.0         29.63             7.0              3.5   \n",
       "6            34.0        100.0         29.66             7.0              3.5   \n",
       "\n",
       "   Side_   Side_L  Side_R  Wind_Direction_ENE  Wind_Direction_ESE  ...  \\\n",
       "2       0       0       1                   0                   0  ...   \n",
       "3       0       0       1                   0                   0  ...   \n",
       "4       0       0       1                   0                   0  ...   \n",
       "5       0       0       1                   0                   0  ...   \n",
       "6       0       0       1                   0                   0  ...   \n",
       "\n",
       "   Weather_Condition_Small Hail  Weather_Condition_Smoke  \\\n",
       "2                             0                        0   \n",
       "3                             0                        0   \n",
       "4                             0                        0   \n",
       "5                             0                        0   \n",
       "6                             0                        0   \n",
       "\n",
       "   Weather_Condition_Snow  Weather_Condition_Snow Grains  \\\n",
       "2                       0                              0   \n",
       "3                       0                              0   \n",
       "4                       0                              0   \n",
       "5                       0                              0   \n",
       "6                       0                              0   \n",
       "\n",
       "   Weather_Condition_Snow Showers  Weather_Condition_Squalls  \\\n",
       "2                               0                          0   \n",
       "3                               0                          0   \n",
       "4                               0                          0   \n",
       "5                               0                          0   \n",
       "6                               0                          0   \n",
       "\n",
       "   Weather_Condition_Thunderstorm  Weather_Condition_Thunderstorms and Rain  \\\n",
       "2                               0                                         0   \n",
       "3                               0                                         0   \n",
       "4                               0                                         0   \n",
       "5                               0                                         0   \n",
       "6                               0                                         0   \n",
       "\n",
       "   Weather_Condition_Thunderstorms and Snow  Weather_Condition_Widespread Dust  \n",
       "2                                         0                                  0  \n",
       "3                                         0                                  0  \n",
       "4                                         0                                  0  \n",
       "5                                         0                                  0  \n",
       "6                                         0                                  0  \n",
       "\n",
       "[5 rows x 83 columns]"
      ]
     },
     "execution_count": 14,
     "metadata": {},
     "output_type": "execute_result"
    }
   ],
   "source": [
    "data = X.copy()\n",
    "X = pd.get_dummies(data)\n",
    "X.head()"
   ]
  },
  {
   "cell_type": "markdown",
   "metadata": {},
   "source": [
    "# Create a Train Test Split\n",
    "\n"
   ]
  },
  {
   "cell_type": "code",
   "execution_count": 15,
   "metadata": {},
   "outputs": [
    {
     "data": {
      "text/html": [
       "<div>\n",
       "<style scoped>\n",
       "    .dataframe tbody tr th:only-of-type {\n",
       "        vertical-align: middle;\n",
       "    }\n",
       "\n",
       "    .dataframe tbody tr th {\n",
       "        vertical-align: top;\n",
       "    }\n",
       "\n",
       "    .dataframe thead th {\n",
       "        text-align: right;\n",
       "    }\n",
       "</style>\n",
       "<table border=\"1\" class=\"dataframe\">\n",
       "  <thead>\n",
       "    <tr style=\"text-align: right;\">\n",
       "      <th></th>\n",
       "      <th>Temperature(F)</th>\n",
       "      <th>Humidity(%)</th>\n",
       "      <th>Pressure(in)</th>\n",
       "      <th>Visibility(mi)</th>\n",
       "      <th>Wind_Speed(mph)</th>\n",
       "      <th>Side_</th>\n",
       "      <th>Side_L</th>\n",
       "      <th>Side_R</th>\n",
       "      <th>Wind_Direction_ENE</th>\n",
       "      <th>Wind_Direction_ESE</th>\n",
       "      <th>...</th>\n",
       "      <th>Weather_Condition_Small Hail</th>\n",
       "      <th>Weather_Condition_Smoke</th>\n",
       "      <th>Weather_Condition_Snow</th>\n",
       "      <th>Weather_Condition_Snow Grains</th>\n",
       "      <th>Weather_Condition_Snow Showers</th>\n",
       "      <th>Weather_Condition_Squalls</th>\n",
       "      <th>Weather_Condition_Thunderstorm</th>\n",
       "      <th>Weather_Condition_Thunderstorms and Rain</th>\n",
       "      <th>Weather_Condition_Thunderstorms and Snow</th>\n",
       "      <th>Weather_Condition_Widespread Dust</th>\n",
       "    </tr>\n",
       "  </thead>\n",
       "  <tbody>\n",
       "    <tr>\n",
       "      <th>1230997</th>\n",
       "      <td>77.0</td>\n",
       "      <td>31.0</td>\n",
       "      <td>29.92</td>\n",
       "      <td>10.0</td>\n",
       "      <td>24.2</td>\n",
       "      <td>0</td>\n",
       "      <td>1</td>\n",
       "      <td>0</td>\n",
       "      <td>0</td>\n",
       "      <td>0</td>\n",
       "      <td>...</td>\n",
       "      <td>0</td>\n",
       "      <td>0</td>\n",
       "      <td>0</td>\n",
       "      <td>0</td>\n",
       "      <td>0</td>\n",
       "      <td>0</td>\n",
       "      <td>0</td>\n",
       "      <td>0</td>\n",
       "      <td>0</td>\n",
       "      <td>0</td>\n",
       "    </tr>\n",
       "    <tr>\n",
       "      <th>964138</th>\n",
       "      <td>90.0</td>\n",
       "      <td>54.0</td>\n",
       "      <td>30.14</td>\n",
       "      <td>9.0</td>\n",
       "      <td>8.1</td>\n",
       "      <td>0</td>\n",
       "      <td>1</td>\n",
       "      <td>0</td>\n",
       "      <td>0</td>\n",
       "      <td>0</td>\n",
       "      <td>...</td>\n",
       "      <td>0</td>\n",
       "      <td>0</td>\n",
       "      <td>0</td>\n",
       "      <td>0</td>\n",
       "      <td>0</td>\n",
       "      <td>0</td>\n",
       "      <td>0</td>\n",
       "      <td>0</td>\n",
       "      <td>0</td>\n",
       "      <td>0</td>\n",
       "    </tr>\n",
       "    <tr>\n",
       "      <th>761591</th>\n",
       "      <td>50.0</td>\n",
       "      <td>83.0</td>\n",
       "      <td>30.34</td>\n",
       "      <td>10.0</td>\n",
       "      <td>10.4</td>\n",
       "      <td>0</td>\n",
       "      <td>0</td>\n",
       "      <td>1</td>\n",
       "      <td>0</td>\n",
       "      <td>0</td>\n",
       "      <td>...</td>\n",
       "      <td>0</td>\n",
       "      <td>0</td>\n",
       "      <td>0</td>\n",
       "      <td>0</td>\n",
       "      <td>0</td>\n",
       "      <td>0</td>\n",
       "      <td>0</td>\n",
       "      <td>0</td>\n",
       "      <td>0</td>\n",
       "      <td>0</td>\n",
       "    </tr>\n",
       "    <tr>\n",
       "      <th>1847986</th>\n",
       "      <td>72.0</td>\n",
       "      <td>59.0</td>\n",
       "      <td>29.94</td>\n",
       "      <td>10.0</td>\n",
       "      <td>3.5</td>\n",
       "      <td>0</td>\n",
       "      <td>0</td>\n",
       "      <td>1</td>\n",
       "      <td>0</td>\n",
       "      <td>0</td>\n",
       "      <td>...</td>\n",
       "      <td>0</td>\n",
       "      <td>0</td>\n",
       "      <td>0</td>\n",
       "      <td>0</td>\n",
       "      <td>0</td>\n",
       "      <td>0</td>\n",
       "      <td>0</td>\n",
       "      <td>0</td>\n",
       "      <td>0</td>\n",
       "      <td>0</td>\n",
       "    </tr>\n",
       "    <tr>\n",
       "      <th>1478272</th>\n",
       "      <td>57.9</td>\n",
       "      <td>100.0</td>\n",
       "      <td>29.85</td>\n",
       "      <td>6.0</td>\n",
       "      <td>4.6</td>\n",
       "      <td>0</td>\n",
       "      <td>0</td>\n",
       "      <td>1</td>\n",
       "      <td>0</td>\n",
       "      <td>0</td>\n",
       "      <td>...</td>\n",
       "      <td>0</td>\n",
       "      <td>0</td>\n",
       "      <td>0</td>\n",
       "      <td>0</td>\n",
       "      <td>0</td>\n",
       "      <td>0</td>\n",
       "      <td>0</td>\n",
       "      <td>0</td>\n",
       "      <td>0</td>\n",
       "      <td>0</td>\n",
       "    </tr>\n",
       "  </tbody>\n",
       "</table>\n",
       "<p>5 rows × 83 columns</p>\n",
       "</div>"
      ],
      "text/plain": [
       "         Temperature(F)  Humidity(%)  Pressure(in)  Visibility(mi)  \\\n",
       "1230997            77.0         31.0         29.92            10.0   \n",
       "964138             90.0         54.0         30.14             9.0   \n",
       "761591             50.0         83.0         30.34            10.0   \n",
       "1847986            72.0         59.0         29.94            10.0   \n",
       "1478272            57.9        100.0         29.85             6.0   \n",
       "\n",
       "         Wind_Speed(mph)  Side_   Side_L  Side_R  Wind_Direction_ENE  \\\n",
       "1230997             24.2       0       1       0                   0   \n",
       "964138               8.1       0       1       0                   0   \n",
       "761591              10.4       0       0       1                   0   \n",
       "1847986              3.5       0       0       1                   0   \n",
       "1478272              4.6       0       0       1                   0   \n",
       "\n",
       "         Wind_Direction_ESE  ...  Weather_Condition_Small Hail  \\\n",
       "1230997                   0  ...                             0   \n",
       "964138                    0  ...                             0   \n",
       "761591                    0  ...                             0   \n",
       "1847986                   0  ...                             0   \n",
       "1478272                   0  ...                             0   \n",
       "\n",
       "         Weather_Condition_Smoke  Weather_Condition_Snow  \\\n",
       "1230997                        0                       0   \n",
       "964138                         0                       0   \n",
       "761591                         0                       0   \n",
       "1847986                        0                       0   \n",
       "1478272                        0                       0   \n",
       "\n",
       "         Weather_Condition_Snow Grains  Weather_Condition_Snow Showers  \\\n",
       "1230997                              0                               0   \n",
       "964138                               0                               0   \n",
       "761591                               0                               0   \n",
       "1847986                              0                               0   \n",
       "1478272                              0                               0   \n",
       "\n",
       "         Weather_Condition_Squalls  Weather_Condition_Thunderstorm  \\\n",
       "1230997                          0                               0   \n",
       "964138                           0                               0   \n",
       "761591                           0                               0   \n",
       "1847986                          0                               0   \n",
       "1478272                          0                               0   \n",
       "\n",
       "         Weather_Condition_Thunderstorms and Rain  \\\n",
       "1230997                                         0   \n",
       "964138                                          0   \n",
       "761591                                          0   \n",
       "1847986                                         0   \n",
       "1478272                                         0   \n",
       "\n",
       "         Weather_Condition_Thunderstorms and Snow  \\\n",
       "1230997                                         0   \n",
       "964138                                          0   \n",
       "761591                                          0   \n",
       "1847986                                         0   \n",
       "1478272                                         0   \n",
       "\n",
       "         Weather_Condition_Widespread Dust  \n",
       "1230997                                  0  \n",
       "964138                                   0  \n",
       "761591                                   0  \n",
       "1847986                                  0  \n",
       "1478272                                  0  \n",
       "\n",
       "[5 rows x 83 columns]"
      ]
     },
     "execution_count": 15,
     "metadata": {},
     "output_type": "execute_result"
    }
   ],
   "source": [
    "from sklearn.model_selection import train_test_split\n",
    "\n",
    "X_train, X_test, y_train, y_test = train_test_split(X, y, random_state=1, stratify=y)\n",
    "\n",
    "X_train.head()"
   ]
  },
  {
   "cell_type": "markdown",
   "metadata": {},
   "source": [
    "# Pre-processing\n",
    "\n",
    "Scale the data using the MinMaxScaler and perform some feature selection"
   ]
  },
  {
   "cell_type": "code",
   "execution_count": 51,
   "metadata": {},
   "outputs": [],
   "source": [
    "# # Scale your data\n",
    "# from sklearn.preprocessing import MinMaxScaler\n",
    "# X_minmax = MinMaxScaler().fit(X_train)\n",
    "\n",
    "# X_train_minmax = X_minmax.transform(X_train)\n",
    "# X_test_minmax = X_minmax.transform(X_test)\n",
    "\n"
   ]
  },
  {
   "cell_type": "markdown",
   "metadata": {},
   "source": [
    "# Train the Model\n",
    "\n"
   ]
  },
  {
   "cell_type": "code",
   "execution_count": 16,
   "metadata": {},
   "outputs": [],
   "source": [
    "from sklearn.ensemble import RandomForestClassifier\n",
    "rf = RandomForestClassifier(n_estimators=20)\n"
   ]
  },
  {
   "cell_type": "code",
   "execution_count": 17,
   "metadata": {},
   "outputs": [
    {
     "data": {
      "text/plain": [
       "RandomForestClassifier(bootstrap=True, ccp_alpha=0.0, class_weight=None,\n",
       "                       criterion='gini', max_depth=None, max_features='auto',\n",
       "                       max_leaf_nodes=None, max_samples=None,\n",
       "                       min_impurity_decrease=0.0, min_impurity_split=None,\n",
       "                       min_samples_leaf=1, min_samples_split=2,\n",
       "                       min_weight_fraction_leaf=0.0, n_estimators=20,\n",
       "                       n_jobs=None, oob_score=False, random_state=None,\n",
       "                       verbose=0, warm_start=False)"
      ]
     },
     "execution_count": 17,
     "metadata": {},
     "output_type": "execute_result"
    }
   ],
   "source": [
    "import numpy as np\n",
    "\n",
    "rf = rf.fit(X_train, np.ravel(y_train,order='C'))\n",
    "rf "
   ]
  },
  {
   "cell_type": "code",
   "execution_count": 18,
   "metadata": {},
   "outputs": [
    {
     "name": "stdout",
     "output_type": "stream",
     "text": [
      "Training Data Score: 0.931873929433018\n",
      "Testing Data Score: 0.6503225458540893\n"
     ]
    }
   ],
   "source": [
    "print(f\"Training Data Score: {rf.score(X_train, y_train)}\")\n",
    "print(f\"Testing Data Score: {rf.score(X_test, y_test)}\")"
   ]
  },
  {
   "cell_type": "code",
   "execution_count": 19,
   "metadata": {},
   "outputs": [
    {
     "data": {
      "text/plain": [
       "[(0.2601296478759309, 'Temperature(F)'),\n",
       " (0.2481243583192499, 'Pressure(in)'),\n",
       " (0.21276637684156202, 'Humidity(%)'),\n",
       " (0.1301844511019918, 'Wind_Speed(mph)'),\n",
       " (0.03988011123754236, 'Side_L'),\n",
       " (0.03571833146162133, 'Visibility(mi)'),\n",
       " (0.025024570129207408, 'Side_R'),\n",
       " (0.002313698172092136, 'Wind_Direction_South'),\n",
       " (0.0021877898932737452, 'Wind_Direction_SSW'),\n",
       " (0.0021637132225179848, 'Weather_Condition_Mostly Cloudy'),\n",
       " (0.002162499794928309, 'Weather_Condition_Scattered Clouds'),\n",
       " (0.0021614410734421457, 'Weather_Condition_Overcast'),\n",
       " (0.0021376758877517023, 'Wind_Direction_SW'),\n",
       " (0.0021156766696940566, 'Wind_Direction_SE'),\n",
       " (0.002078077071024249, 'Wind_Direction_ESE'),\n",
       " (0.0020414388156775034, 'Wind_Direction_ENE'),\n",
       " (0.0020192110192954952, 'Wind_Direction_NE'),\n",
       " (0.0020017696115390954, 'Wind_Direction_North'),\n",
       " (0.0019896783190500268, 'Wind_Direction_NNW'),\n",
       " (0.0019196089906778056, 'Wind_Direction_NW'),\n",
       " (0.0019104442340996952, 'Weather_Condition_Partly Cloudy'),\n",
       " (0.0018573735414727903, 'Wind_Direction_SSE'),\n",
       " (0.0017582156398538394, 'Wind_Direction_WSW'),\n",
       " (0.0016666500734090837, 'Wind_Direction_East'),\n",
       " (0.001591283123008294, 'Weather_Condition_Clear'),\n",
       " (0.0015844481045993839, 'Wind_Direction_West'),\n",
       " (0.0015590764881740881, 'Wind_Direction_WNW'),\n",
       " (0.001466921827384353, 'Wind_Direction_NNE'),\n",
       " (0.0010159665261593237, 'Weather_Condition_Light Rain'),\n",
       " (0.0009766866133932499, 'Wind_Direction_Variable'),\n",
       " (0.0006082840295692606, 'Weather_Condition_Light Snow'),\n",
       " (0.0005723882983250848, 'Weather_Condition_Haze'),\n",
       " (0.0005214609250846955, 'Weather_Condition_Light Drizzle'),\n",
       " (0.00043002077174603614, 'Weather_Condition_Rain'),\n",
       " (0.00037816608373494344, 'Weather_Condition_Thunderstorm'),\n",
       " (0.000347536078943957, 'Weather_Condition_Light Thunderstorms and Rain'),\n",
       " (0.0003031353537428123, 'Weather_Condition_Heavy Rain'),\n",
       " (0.0002760230434915455, 'Weather_Condition_Smoke'),\n",
       " (0.00023607217680304062, 'Weather_Condition_Thunderstorms and Rain'),\n",
       " (0.00021826979105854456, 'Weather_Condition_Drizzle'),\n",
       " (0.000185615494284358, 'Weather_Condition_Light Freezing Rain'),\n",
       " (0.0001693383152786125, 'Weather_Condition_Heavy Thunderstorms and Rain'),\n",
       " (0.0001644696991803338, 'Weather_Condition_Snow'),\n",
       " (0.00015429099309144698, 'Weather_Condition_Fog'),\n",
       " (0.00012838481381413305, 'Weather_Condition_Patches of Fog'),\n",
       " (0.00012500486661671633, 'Weather_Condition_Mist'),\n",
       " (0.00010707846968371944, 'Weather_Condition_Light Freezing Drizzle'),\n",
       " (8.587324107004644e-05, 'Weather_Condition_Heavy Snow'),\n",
       " (7.382350910564482e-05, 'Weather_Condition_Shallow Fog'),\n",
       " (6.511652375070607e-05, 'Weather_Condition_Light Freezing Fog'),\n",
       " (6.347297182320079e-05, 'Weather_Condition_Light Ice Pellets'),\n",
       " (4.7317088247950635e-05, 'Weather_Condition_Blowing Snow'),\n",
       " (4.4472302164361454e-05, 'Weather_Condition_Heavy Drizzle'),\n",
       " (4.211466269594189e-05, 'Weather_Condition_Light Rain Showers'),\n",
       " (2.8406104001682814e-05, 'Weather_Condition_Rain Showers'),\n",
       " (2.395749554235698e-05, 'Weather_Condition_Ice Pellets'),\n",
       " (2.1386618226798075e-05, 'Weather_Condition_Widespread Dust'),\n",
       " (1.118239319227235e-05, 'Weather_Condition_Light Snow Showers'),\n",
       " (1.0219676116847401e-05, 'Weather_Condition_Light Thunderstorms and Snow'),\n",
       " (7.980986565099148e-06, 'Weather_Condition_Small Hail'),\n",
       " (7.968723740509166e-06, 'Weather_Condition_Squalls'),\n",
       " (5.981163323998732e-06, 'Weather_Condition_Funnel Cloud'),\n",
       " (3.3011248956491176e-06, 'Weather_Condition_Light Snow Grains'),\n",
       " (2.8569188816630492e-06, 'Weather_Condition_Low Drifting Snow'),\n",
       " (2.7735117970545355e-06, 'Weather_Condition_Light Haze'),\n",
       " (2.3342740798308478e-06,\n",
       "  'Weather_Condition_Heavy Thunderstorms with Small Hail'),\n",
       " (2.1002516626057258e-06, 'Weather_Condition_Heavy Thunderstorms and Snow'),\n",
       " (2.0988573127927696e-06, 'Weather_Condition_Heavy Rain Showers'),\n",
       " (1.93804464607763e-06, 'Weather_Condition_Light Blowing Snow'),\n",
       " (1.488490545863044e-06, 'Weather_Condition_Light Fog'),\n",
       " (1.3991352844412355e-06, 'Weather_Condition_Thunderstorms and Snow'),\n",
       " (1.3256543027358005e-06, 'Weather_Condition_Hail'),\n",
       " (1.278675780465207e-06, 'Weather_Condition_Heavy Ice Pellets'),\n",
       " (8.439948544310907e-07, 'Weather_Condition_Heavy Freezing Drizzle'),\n",
       " (7.643385103233019e-07, 'Weather_Condition_Snow Showers'),\n",
       " (7.383535473193794e-07, 'Weather_Condition_Snow Grains'),\n",
       " (6.457766934814651e-07, 'Weather_Condition_Heavy Blowing Snow'),\n",
       " (5.981316986568796e-07, 'Weather_Condition_Light Thunderstorm'),\n",
       " (5.804439976034851e-07, 'Weather_Condition_Blowing Sand'),\n",
       " (3.7058526500025735e-07, 'Weather_Condition_Heavy Freezing Rain'),\n",
       " (2.925852669589182e-07, 'Side_ '),\n",
       " (2.6650733631124966e-07, 'Weather_Condition_Light Hail'),\n",
       " (0.0, 'Weather_Condition_Dust Whirls')]"
      ]
     },
     "execution_count": 19,
     "metadata": {},
     "output_type": "execute_result"
    }
   ],
   "source": [
    "sorted(zip(rf.feature_importances_, X_train.columns), reverse=True)"
   ]
  }
 ],
 "metadata": {
  "kernel_info": {
   "name": "dev"
  },
  "kernelspec": {
   "display_name": "Python 3",
   "language": "python",
   "name": "python3"
  },
  "language_info": {
   "codemirror_mode": {
    "name": "ipython",
    "version": 3
   },
   "file_extension": ".py",
   "mimetype": "text/x-python",
   "name": "python",
   "nbconvert_exporter": "python",
   "pygments_lexer": "ipython3",
   "version": "3.7.3"
  },
  "nteract": {
   "version": "0.12.3"
  }
 },
 "nbformat": 4,
 "nbformat_minor": 2
}
