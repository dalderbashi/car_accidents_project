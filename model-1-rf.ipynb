{
 "cells": [
  {
   "cell_type": "code",
   "execution_count": 53,
   "metadata": {},
   "outputs": [],
   "source": [
    "# Update sklearn to prevent version mismatches\n",
    "#!pip install sklearn --upgrade"
   ]
  },
  {
   "cell_type": "code",
   "execution_count": 54,
   "metadata": {},
   "outputs": [],
   "source": [
    "# install joblib. This will be used to save your model. \n",
    "# Restart your kernel after installing \n",
    "#!pip install joblib"
   ]
  },
  {
   "cell_type": "code",
   "execution_count": 55,
   "metadata": {},
   "outputs": [],
   "source": [
    "import pandas as pd\n",
    "import matplotlib.pyplot as plt\n",
    "import numpy as np"
   ]
  },
  {
   "cell_type": "markdown",
   "metadata": {},
   "source": [
    "# Read the CSV and Perform Basic Data Cleaning"
   ]
  },
  {
   "cell_type": "code",
   "execution_count": 56,
   "metadata": {},
   "outputs": [
    {
     "data": {
      "text/plain": [
       "(2243939, 49)"
      ]
     },
     "execution_count": 56,
     "metadata": {},
     "output_type": "execute_result"
    }
   ],
   "source": [
    "df = pd.read_csv(\"US_Accidents_May19.csv\")\n",
    "# Drop the null columns where all values are null\n",
    "df = df.dropna(axis='columns', how='all')\n",
    "# Drop the null rows\n",
    "#df = df.dropna()\n",
    "df.head()\n",
    "df.shape"
   ]
  },
  {
   "cell_type": "code",
   "execution_count": 185,
   "metadata": {},
   "outputs": [
    {
     "data": {
      "text/plain": [
       "ID                       2243939\n",
       "Source                   2243939\n",
       "TMC                      1727177\n",
       "Severity                 2243939\n",
       "Start_Time               2243939\n",
       "End_Time                 2243939\n",
       "Start_Lat                2243939\n",
       "Start_Lng                2243939\n",
       "End_Lat                   516762\n",
       "End_Lng                   516762\n",
       "Distance(mi)             2243939\n",
       "Description              2243938\n",
       "Number                    785537\n",
       "Street                   2243939\n",
       "Side                     2243939\n",
       "City                     2243871\n",
       "County                   2243939\n",
       "State                    2243939\n",
       "Zipcode                  2243293\n",
       "Country                  2243939\n",
       "Timezone                 2241798\n",
       "Airport_Code             2220275\n",
       "Weather_Timestamp        2196769\n",
       "Temperature(F)           2181674\n",
       "Wind_Chill(F)             391569\n",
       "Humidity(%)              2179472\n",
       "Pressure(in)             2186659\n",
       "Visibility(mi)           2172579\n",
       "Wind_Direction           2196749\n",
       "Wind_Speed(mph)          1800985\n",
       "Precipitation(in)         264473\n",
       "Weather_Condition        2171935\n",
       "Amenity                  2243939\n",
       "Bump                     2243939\n",
       "Crossing                 2243939\n",
       "Give_Way                 2243939\n",
       "Junction                 2243939\n",
       "No_Exit                  2243939\n",
       "Railway                  2243939\n",
       "Roundabout               2243939\n",
       "Station                  2243939\n",
       "Stop                     2243939\n",
       "Traffic_Calming          2243939\n",
       "Traffic_Signal           2243939\n",
       "Turning_Loop             2243939\n",
       "Sunrise_Sunset           2243861\n",
       "Civil_Twilight           2243861\n",
       "Nautical_Twilight        2243861\n",
       "Astronomical_Twilight    2243861\n",
       "dtype: int64"
      ]
     },
     "execution_count": 185,
     "metadata": {},
     "output_type": "execute_result"
    }
   ],
   "source": [
    "df.count()"
   ]
  },
  {
   "cell_type": "code",
   "execution_count": 58,
   "metadata": {},
   "outputs": [
    {
     "data": {
      "text/plain": [
       "Index(['ID', 'Source', 'TMC', 'Severity', 'Start_Time', 'End_Time',\n",
       "       'Start_Lat', 'Start_Lng', 'End_Lat', 'End_Lng', 'Distance(mi)',\n",
       "       'Description', 'Number', 'Street', 'Side', 'City', 'County', 'State',\n",
       "       'Zipcode', 'Country', 'Timezone', 'Airport_Code', 'Weather_Timestamp',\n",
       "       'Temperature(F)', 'Wind_Chill(F)', 'Humidity(%)', 'Pressure(in)',\n",
       "       'Visibility(mi)', 'Wind_Direction', 'Wind_Speed(mph)',\n",
       "       'Precipitation(in)', 'Weather_Condition', 'Amenity', 'Bump', 'Crossing',\n",
       "       'Give_Way', 'Junction', 'No_Exit', 'Railway', 'Roundabout', 'Station',\n",
       "       'Stop', 'Traffic_Calming', 'Traffic_Signal', 'Turning_Loop',\n",
       "       'Sunrise_Sunset', 'Civil_Twilight', 'Nautical_Twilight',\n",
       "       'Astronomical_Twilight'],\n",
       "      dtype='object')"
      ]
     },
     "execution_count": 58,
     "metadata": {},
     "output_type": "execute_result"
    }
   ],
   "source": [
    "df.columns\n",
    "#df.to_csv(\"clean_data.csv\",index=False)"
   ]
  },
  {
   "cell_type": "code",
   "execution_count": 59,
   "metadata": {},
   "outputs": [
    {
     "data": {
      "text/plain": [
       "array(['Light Rain', 'Overcast', 'Mostly Cloudy', 'Rain', 'Light Snow',\n",
       "       'Haze', 'Scattered Clouds', 'Partly Cloudy', 'Clear', 'Snow',\n",
       "       'Light Freezing Drizzle', 'Light Drizzle', 'Fog', 'Shallow Fog',\n",
       "       'Heavy Rain', 'Light Freezing Rain', nan, 'Drizzle',\n",
       "       'Light Rain Showers', 'Mist', 'Smoke', 'Patches of Fog',\n",
       "       'Light Freezing Fog', 'Light Haze', 'Light Thunderstorms and Rain',\n",
       "       'Thunderstorms and Rain', 'Volcanic Ash', 'Blowing Sand',\n",
       "       'Widespread Dust', 'Rain Showers', 'Hail', 'Heavy Drizzle',\n",
       "       'Thunderstorm', 'Heavy Thunderstorms and Rain', 'Funnel Cloud',\n",
       "       'Blowing Snow', 'Light Thunderstorms and Snow', 'Heavy Snow',\n",
       "       'Low Drifting Snow', 'Light Ice Pellets', 'Ice Pellets', 'Squalls',\n",
       "       'Light Fog', 'Sand', 'Snow Grains', 'Snow Showers',\n",
       "       'Heavy Thunderstorms and Snow', 'Heavy Ice Pellets',\n",
       "       'Heavy Freezing Rain', 'Small Hail', 'Heavy Rain Showers',\n",
       "       'Light Snow Showers', 'Heavy Blowing Snow', 'Light Hail',\n",
       "       'Heavy Smoke', 'Heavy Thunderstorms with Small Hail',\n",
       "       'Light Thunderstorm', 'Heavy Freezing Drizzle',\n",
       "       'Light Blowing Snow', 'Thunderstorms and Snow',\n",
       "       'Light Snow Grains', 'Dust Whirls'], dtype=object)"
      ]
     },
     "execution_count": 59,
     "metadata": {},
     "output_type": "execute_result"
    }
   ],
   "source": [
    "df.Weather_Condition.unique()"
   ]
  },
  {
   "cell_type": "code",
   "execution_count": 60,
   "metadata": {},
   "outputs": [],
   "source": [
    "# simplify weather condition column\n",
    "df[\"Weather_Condition\"]=df[\"Weather_Condition\"].replace(to_replace =[\"Overcast\", \"Mostly Cloudy\", \"Scattered Clouds\",\"Funnel Cloud\", \"Partly Cloudy\" ],  \n",
    "                            value =\"Cloudy\") \n",
    "\n",
    "# simplify weather condition column\n",
    "df[\"Weather_Condition\"]=df[\"Weather_Condition\"].replace(to_replace =[\"Fog\", \"Shallow Fog\", \"Patches of Fog\",\"Light Freezing Fog\",\n",
    "                                                                     \"Light Fog\", \"Haze\", \"Light Haze\"],  \n",
    "                            value =\"Fog\") \n",
    "\n",
    "# simplify weather condition column\n",
    "df[\"Weather_Condition\"]=df[\"Weather_Condition\"].replace(to_replace =[\"Hail\", \"Small Hail\", \"Light Hail\"],  \n",
    "                            value =\"Hail\") \n",
    "\n",
    "\n",
    "df[\"Weather_Condition\"]=df[\"Weather_Condition\"].replace(to_replace =[\"Light Rain\", \"Rain\", \"Light Freezing Drizzle\",\"Light Drizzle\", \"Light Freezing Rain\",\n",
    "                           \"Drizzle\", \"Light Rain Showers\", \"Light Thunderstorms and Rain\", \"Thunderstorms and Rain\",\n",
    "                          \"Rain Showers\",\"Heavy Drizzle\",\"Squalls\",\"Heavy Freezing Drizzle\",\"Heavy Freezing Rain\", \"Heavy Rain Showers\",\"ßHeavy Rain\"],  \n",
    "                            value =\"Rain\") \n",
    "\n",
    "df[\"Weather_Condition\"]=df[\"Weather_Condition\"].replace(to_replace =[\"Heavy Thunderstorms and Rain\", \n",
    "                                                                     \"Heavy Thunderstorms and Snow\",\n",
    "                                                                     \"Heavy Thunderstorms with Small Hail\",\n",
    "                                                                     \"Light Thunderstorm\",\"Thunderstorms and Snow\"\n",
    "                                                                     ],  \n",
    "                            value =\"Thunderstorm\") \n",
    "\n",
    "\n",
    "df[\"Weather_Condition\"]=df[\"Weather_Condition\"].replace(to_replace =[\"Light Ice Pellets\", \"Ice Pellets\"],  \n",
    "                            value =\"Ice\") \n",
    "\n",
    "df[\"Weather_Condition\"]=df[\"Weather_Condition\"].replace(to_replace =[\"Blowing Sand\"],  \n",
    "                            value =\"Sand\") \n",
    "\n",
    "\n",
    "df[\"Weather_Condition\"]=df[\"Weather_Condition\"].replace(to_replace =[\"Light Snow\", \"Snow\",\n",
    "                                                                     \"Blowing Snow\",\"Light Thunderstorms and Snow\",\n",
    "                                                                     \"Low Drifting Snow\",\"Low Drifting Snow\",\n",
    "                                                                     \"Snow Grains\", \"Snow Showers\",\n",
    "                                                                     \"Light Snow Showers\",\"Light Blowing Snow\",\n",
    "                                                                     \"Light Snow Grains\", \"Heavy Blowing Snow\"],  \n",
    "                                                        value =\"Snow\") \n",
    "\n",
    "\n",
    "df[\"Weather_Condition\"]=df[\"Weather_Condition\"].replace(to_replace =[\"Widespread Dust\", \"Dust Whirls\"],  \n",
    "                            value =\"Dust\") "
   ]
  },
  {
   "cell_type": "code",
   "execution_count": 61,
   "metadata": {},
   "outputs": [],
   "source": [
    "#remove columns with the least amount of information\n",
    "df1=df.drop([\"End_Lat\", \"End_Lng\", \"Number\", \"Wind_Chill(F)\", \"Precipitation(in)\", \"Airport_Code\", \"Weather_Timestamp\", \"ID\", \"Source\", \"Description\", \"TMC\", \"End_Time\", \"Distance(mi)\", \"Zipcode\", \"Country\", \"City\", \"County\", \"Timezone\", \"Civil_Twilight\",\n",
    "\"Nautical_Twilight\",\"Astronomical_Twilight\", \"Street\", \"Start_Time\", \"Start_Lat\", \"Start_Lng\", \"Wind_Direction\"], axis=1)\n",
    "\n"
   ]
  },
  {
   "cell_type": "code",
   "execution_count": 180,
   "metadata": {
    "scrolled": true
   },
   "outputs": [],
   "source": [
    "df1 = df1.dropna()\n",
    "#1780156\n",
    "df1.replace(' ', np.nan, inplace=True)\n",
    "df1 = df1.dropna()\n",
    "#df1.count()"
   ]
  },
  {
   "cell_type": "code",
   "execution_count": 64,
   "metadata": {},
   "outputs": [
    {
     "data": {
      "text/html": [
       "<div>\n",
       "<style scoped>\n",
       "    .dataframe tbody tr th:only-of-type {\n",
       "        vertical-align: middle;\n",
       "    }\n",
       "\n",
       "    .dataframe tbody tr th {\n",
       "        vertical-align: top;\n",
       "    }\n",
       "\n",
       "    .dataframe thead th {\n",
       "        text-align: right;\n",
       "    }\n",
       "</style>\n",
       "<table border=\"1\" class=\"dataframe\">\n",
       "  <thead>\n",
       "    <tr style=\"text-align: right;\">\n",
       "      <th></th>\n",
       "      <th>Severity</th>\n",
       "      <th>Side</th>\n",
       "      <th>State</th>\n",
       "      <th>Temperature(F)</th>\n",
       "      <th>Humidity(%)</th>\n",
       "      <th>Pressure(in)</th>\n",
       "      <th>Visibility(mi)</th>\n",
       "      <th>Wind_Speed(mph)</th>\n",
       "      <th>Weather_Condition</th>\n",
       "      <th>Amenity</th>\n",
       "      <th>...</th>\n",
       "      <th>Junction</th>\n",
       "      <th>No_Exit</th>\n",
       "      <th>Railway</th>\n",
       "      <th>Roundabout</th>\n",
       "      <th>Station</th>\n",
       "      <th>Stop</th>\n",
       "      <th>Traffic_Calming</th>\n",
       "      <th>Traffic_Signal</th>\n",
       "      <th>Turning_Loop</th>\n",
       "      <th>Sunrise_Sunset</th>\n",
       "    </tr>\n",
       "  </thead>\n",
       "  <tbody>\n",
       "    <tr>\n",
       "      <th>2</th>\n",
       "      <td>2</td>\n",
       "      <td>R</td>\n",
       "      <td>OH</td>\n",
       "      <td>36.0</td>\n",
       "      <td>100.0</td>\n",
       "      <td>29.67</td>\n",
       "      <td>10.0</td>\n",
       "      <td>3.5</td>\n",
       "      <td>Cloudy</td>\n",
       "      <td>False</td>\n",
       "      <td>...</td>\n",
       "      <td>False</td>\n",
       "      <td>False</td>\n",
       "      <td>False</td>\n",
       "      <td>False</td>\n",
       "      <td>False</td>\n",
       "      <td>False</td>\n",
       "      <td>False</td>\n",
       "      <td>True</td>\n",
       "      <td>False</td>\n",
       "      <td>Night</td>\n",
       "    </tr>\n",
       "    <tr>\n",
       "      <th>3</th>\n",
       "      <td>3</td>\n",
       "      <td>R</td>\n",
       "      <td>OH</td>\n",
       "      <td>35.1</td>\n",
       "      <td>96.0</td>\n",
       "      <td>29.64</td>\n",
       "      <td>9.0</td>\n",
       "      <td>4.6</td>\n",
       "      <td>Cloudy</td>\n",
       "      <td>False</td>\n",
       "      <td>...</td>\n",
       "      <td>False</td>\n",
       "      <td>False</td>\n",
       "      <td>False</td>\n",
       "      <td>False</td>\n",
       "      <td>False</td>\n",
       "      <td>False</td>\n",
       "      <td>False</td>\n",
       "      <td>False</td>\n",
       "      <td>False</td>\n",
       "      <td>Night</td>\n",
       "    </tr>\n",
       "    <tr>\n",
       "      <th>4</th>\n",
       "      <td>2</td>\n",
       "      <td>R</td>\n",
       "      <td>OH</td>\n",
       "      <td>36.0</td>\n",
       "      <td>89.0</td>\n",
       "      <td>29.65</td>\n",
       "      <td>6.0</td>\n",
       "      <td>3.5</td>\n",
       "      <td>Cloudy</td>\n",
       "      <td>False</td>\n",
       "      <td>...</td>\n",
       "      <td>False</td>\n",
       "      <td>False</td>\n",
       "      <td>False</td>\n",
       "      <td>False</td>\n",
       "      <td>False</td>\n",
       "      <td>False</td>\n",
       "      <td>False</td>\n",
       "      <td>True</td>\n",
       "      <td>False</td>\n",
       "      <td>Day</td>\n",
       "    </tr>\n",
       "    <tr>\n",
       "      <th>5</th>\n",
       "      <td>3</td>\n",
       "      <td>R</td>\n",
       "      <td>OH</td>\n",
       "      <td>37.9</td>\n",
       "      <td>97.0</td>\n",
       "      <td>29.63</td>\n",
       "      <td>7.0</td>\n",
       "      <td>3.5</td>\n",
       "      <td>Rain</td>\n",
       "      <td>False</td>\n",
       "      <td>...</td>\n",
       "      <td>False</td>\n",
       "      <td>False</td>\n",
       "      <td>False</td>\n",
       "      <td>False</td>\n",
       "      <td>False</td>\n",
       "      <td>False</td>\n",
       "      <td>False</td>\n",
       "      <td>False</td>\n",
       "      <td>False</td>\n",
       "      <td>Day</td>\n",
       "    </tr>\n",
       "    <tr>\n",
       "      <th>6</th>\n",
       "      <td>2</td>\n",
       "      <td>R</td>\n",
       "      <td>OH</td>\n",
       "      <td>34.0</td>\n",
       "      <td>100.0</td>\n",
       "      <td>29.66</td>\n",
       "      <td>7.0</td>\n",
       "      <td>3.5</td>\n",
       "      <td>Cloudy</td>\n",
       "      <td>False</td>\n",
       "      <td>...</td>\n",
       "      <td>False</td>\n",
       "      <td>False</td>\n",
       "      <td>False</td>\n",
       "      <td>False</td>\n",
       "      <td>False</td>\n",
       "      <td>False</td>\n",
       "      <td>False</td>\n",
       "      <td>False</td>\n",
       "      <td>False</td>\n",
       "      <td>Day</td>\n",
       "    </tr>\n",
       "  </tbody>\n",
       "</table>\n",
       "<p>5 rows × 23 columns</p>\n",
       "</div>"
      ],
      "text/plain": [
       "   Severity Side State  Temperature(F)  Humidity(%)  Pressure(in)  \\\n",
       "2         2    R    OH            36.0        100.0         29.67   \n",
       "3         3    R    OH            35.1         96.0         29.64   \n",
       "4         2    R    OH            36.0         89.0         29.65   \n",
       "5         3    R    OH            37.9         97.0         29.63   \n",
       "6         2    R    OH            34.0        100.0         29.66   \n",
       "\n",
       "   Visibility(mi)  Wind_Speed(mph) Weather_Condition  Amenity  ...  Junction  \\\n",
       "2            10.0              3.5            Cloudy    False  ...     False   \n",
       "3             9.0              4.6            Cloudy    False  ...     False   \n",
       "4             6.0              3.5            Cloudy    False  ...     False   \n",
       "5             7.0              3.5              Rain    False  ...     False   \n",
       "6             7.0              3.5            Cloudy    False  ...     False   \n",
       "\n",
       "   No_Exit  Railway  Roundabout  Station   Stop  Traffic_Calming  \\\n",
       "2    False    False       False    False  False            False   \n",
       "3    False    False       False    False  False            False   \n",
       "4    False    False       False    False  False            False   \n",
       "5    False    False       False    False  False            False   \n",
       "6    False    False       False    False  False            False   \n",
       "\n",
       "   Traffic_Signal  Turning_Loop  Sunrise_Sunset  \n",
       "2            True         False           Night  \n",
       "3           False         False           Night  \n",
       "4            True         False             Day  \n",
       "5           False         False             Day  \n",
       "6           False         False             Day  \n",
       "\n",
       "[5 rows x 23 columns]"
      ]
     },
     "execution_count": 64,
     "metadata": {},
     "output_type": "execute_result"
    }
   ],
   "source": [
    "df1.head()\n",
    "#df1.to_csv(\"relevant_data.csv\",index=False)"
   ]
  },
  {
   "cell_type": "code",
   "execution_count": 181,
   "metadata": {},
   "outputs": [],
   "source": [
    "#list(df.columns) \n",
    "#df1.dtypes"
   ]
  },
  {
   "cell_type": "code",
   "execution_count": 66,
   "metadata": {},
   "outputs": [
    {
     "data": {
      "text/plain": [
       "array(['Cloudy', 'Rain', 'Snow', 'Fog', 'Clear', 'Heavy Rain', 'Smoke',\n",
       "       'Mist', 'Sand', 'Dust', 'Hail', 'Thunderstorm', 'Heavy Snow',\n",
       "       'Ice', 'Heavy Ice Pellets'], dtype=object)"
      ]
     },
     "execution_count": 66,
     "metadata": {},
     "output_type": "execute_result"
    }
   ],
   "source": [
    "df1.Weather_Condition.unique()"
   ]
  },
  {
   "cell_type": "code",
   "execution_count": 88,
   "metadata": {},
   "outputs": [
    {
     "data": {
      "text/plain": [
       "array(['R', 'L'], dtype=object)"
      ]
     },
     "execution_count": 88,
     "metadata": {},
     "output_type": "execute_result"
    }
   ],
   "source": [
    "df1.Side.unique()"
   ]
  },
  {
   "cell_type": "markdown",
   "metadata": {},
   "source": [
    "# Select your features (columns)"
   ]
  },
  {
   "cell_type": "code",
   "execution_count": 25,
   "metadata": {},
   "outputs": [],
   "source": [
    "# Set features. This will also be used as your x values.\n",
    "X = df1.drop([\"Severity\", \"State\",  \n",
    "              \"Give_Way\",\"Traffic_Calming\", \"Roundabout\",\"Bump\", \"Turning_Loop\"],axis=1)\n",
    "\n",
    "#removing features did not result in a better score"
   ]
  },
  {
   "cell_type": "markdown",
   "metadata": {},
   "source": [
    "# Select Y\n"
   ]
  },
  {
   "cell_type": "code",
   "execution_count": 81,
   "metadata": {},
   "outputs": [
    {
     "data": {
      "text/plain": [
       "array([2, 3, 1, 4, 0])"
      ]
     },
     "execution_count": 81,
     "metadata": {},
     "output_type": "execute_result"
    }
   ],
   "source": [
    "y = df1[\"Severity\"].values.reshape(-1, 1)\n",
    "\n",
    "df1[\"Severity\"].unique()"
   ]
  },
  {
   "cell_type": "code",
   "execution_count": 27,
   "metadata": {},
   "outputs": [
    {
     "name": "stdout",
     "output_type": "stream",
     "text": [
      "(1780155, 16) (1780155, 1)\n"
     ]
    }
   ],
   "source": [
    "print(X.shape, y.shape)\n"
   ]
  },
  {
   "cell_type": "markdown",
   "metadata": {},
   "source": [
    "### Dummy Encoding (Binary Encoded Data)"
   ]
  },
  {
   "cell_type": "code",
   "execution_count": 28,
   "metadata": {},
   "outputs": [
    {
     "data": {
      "text/html": [
       "<div>\n",
       "<style scoped>\n",
       "    .dataframe tbody tr th:only-of-type {\n",
       "        vertical-align: middle;\n",
       "    }\n",
       "\n",
       "    .dataframe tbody tr th {\n",
       "        vertical-align: top;\n",
       "    }\n",
       "\n",
       "    .dataframe thead th {\n",
       "        text-align: right;\n",
       "    }\n",
       "</style>\n",
       "<table border=\"1\" class=\"dataframe\">\n",
       "  <thead>\n",
       "    <tr style=\"text-align: right;\">\n",
       "      <th></th>\n",
       "      <th>Temperature(F)</th>\n",
       "      <th>Humidity(%)</th>\n",
       "      <th>Pressure(in)</th>\n",
       "      <th>Visibility(mi)</th>\n",
       "      <th>Wind_Speed(mph)</th>\n",
       "      <th>Amenity</th>\n",
       "      <th>Crossing</th>\n",
       "      <th>Junction</th>\n",
       "      <th>No_Exit</th>\n",
       "      <th>Railway</th>\n",
       "      <th>...</th>\n",
       "      <th>Weather_Condition_Heavy Snow</th>\n",
       "      <th>Weather_Condition_Ice</th>\n",
       "      <th>Weather_Condition_Mist</th>\n",
       "      <th>Weather_Condition_Rain</th>\n",
       "      <th>Weather_Condition_Sand</th>\n",
       "      <th>Weather_Condition_Smoke</th>\n",
       "      <th>Weather_Condition_Snow</th>\n",
       "      <th>Weather_Condition_Thunderstorm</th>\n",
       "      <th>Sunrise_Sunset_Day</th>\n",
       "      <th>Sunrise_Sunset_Night</th>\n",
       "    </tr>\n",
       "  </thead>\n",
       "  <tbody>\n",
       "    <tr>\n",
       "      <th>2</th>\n",
       "      <td>36.0</td>\n",
       "      <td>100.0</td>\n",
       "      <td>29.67</td>\n",
       "      <td>10.0</td>\n",
       "      <td>3.5</td>\n",
       "      <td>False</td>\n",
       "      <td>False</td>\n",
       "      <td>False</td>\n",
       "      <td>False</td>\n",
       "      <td>False</td>\n",
       "      <td>...</td>\n",
       "      <td>0</td>\n",
       "      <td>0</td>\n",
       "      <td>0</td>\n",
       "      <td>0</td>\n",
       "      <td>0</td>\n",
       "      <td>0</td>\n",
       "      <td>0</td>\n",
       "      <td>0</td>\n",
       "      <td>0</td>\n",
       "      <td>1</td>\n",
       "    </tr>\n",
       "    <tr>\n",
       "      <th>3</th>\n",
       "      <td>35.1</td>\n",
       "      <td>96.0</td>\n",
       "      <td>29.64</td>\n",
       "      <td>9.0</td>\n",
       "      <td>4.6</td>\n",
       "      <td>False</td>\n",
       "      <td>False</td>\n",
       "      <td>False</td>\n",
       "      <td>False</td>\n",
       "      <td>False</td>\n",
       "      <td>...</td>\n",
       "      <td>0</td>\n",
       "      <td>0</td>\n",
       "      <td>0</td>\n",
       "      <td>0</td>\n",
       "      <td>0</td>\n",
       "      <td>0</td>\n",
       "      <td>0</td>\n",
       "      <td>0</td>\n",
       "      <td>0</td>\n",
       "      <td>1</td>\n",
       "    </tr>\n",
       "    <tr>\n",
       "      <th>4</th>\n",
       "      <td>36.0</td>\n",
       "      <td>89.0</td>\n",
       "      <td>29.65</td>\n",
       "      <td>6.0</td>\n",
       "      <td>3.5</td>\n",
       "      <td>False</td>\n",
       "      <td>False</td>\n",
       "      <td>False</td>\n",
       "      <td>False</td>\n",
       "      <td>False</td>\n",
       "      <td>...</td>\n",
       "      <td>0</td>\n",
       "      <td>0</td>\n",
       "      <td>0</td>\n",
       "      <td>0</td>\n",
       "      <td>0</td>\n",
       "      <td>0</td>\n",
       "      <td>0</td>\n",
       "      <td>0</td>\n",
       "      <td>1</td>\n",
       "      <td>0</td>\n",
       "    </tr>\n",
       "    <tr>\n",
       "      <th>5</th>\n",
       "      <td>37.9</td>\n",
       "      <td>97.0</td>\n",
       "      <td>29.63</td>\n",
       "      <td>7.0</td>\n",
       "      <td>3.5</td>\n",
       "      <td>False</td>\n",
       "      <td>False</td>\n",
       "      <td>False</td>\n",
       "      <td>False</td>\n",
       "      <td>False</td>\n",
       "      <td>...</td>\n",
       "      <td>0</td>\n",
       "      <td>0</td>\n",
       "      <td>0</td>\n",
       "      <td>1</td>\n",
       "      <td>0</td>\n",
       "      <td>0</td>\n",
       "      <td>0</td>\n",
       "      <td>0</td>\n",
       "      <td>1</td>\n",
       "      <td>0</td>\n",
       "    </tr>\n",
       "    <tr>\n",
       "      <th>6</th>\n",
       "      <td>34.0</td>\n",
       "      <td>100.0</td>\n",
       "      <td>29.66</td>\n",
       "      <td>7.0</td>\n",
       "      <td>3.5</td>\n",
       "      <td>False</td>\n",
       "      <td>False</td>\n",
       "      <td>False</td>\n",
       "      <td>False</td>\n",
       "      <td>False</td>\n",
       "      <td>...</td>\n",
       "      <td>0</td>\n",
       "      <td>0</td>\n",
       "      <td>0</td>\n",
       "      <td>0</td>\n",
       "      <td>0</td>\n",
       "      <td>0</td>\n",
       "      <td>0</td>\n",
       "      <td>0</td>\n",
       "      <td>1</td>\n",
       "      <td>0</td>\n",
       "    </tr>\n",
       "  </tbody>\n",
       "</table>\n",
       "<p>5 rows × 32 columns</p>\n",
       "</div>"
      ],
      "text/plain": [
       "   Temperature(F)  Humidity(%)  Pressure(in)  Visibility(mi)  Wind_Speed(mph)  \\\n",
       "2            36.0        100.0         29.67            10.0              3.5   \n",
       "3            35.1         96.0         29.64             9.0              4.6   \n",
       "4            36.0         89.0         29.65             6.0              3.5   \n",
       "5            37.9         97.0         29.63             7.0              3.5   \n",
       "6            34.0        100.0         29.66             7.0              3.5   \n",
       "\n",
       "   Amenity  Crossing  Junction  No_Exit  Railway  ...  \\\n",
       "2    False     False     False    False    False  ...   \n",
       "3    False     False     False    False    False  ...   \n",
       "4    False     False     False    False    False  ...   \n",
       "5    False     False     False    False    False  ...   \n",
       "6    False     False     False    False    False  ...   \n",
       "\n",
       "   Weather_Condition_Heavy Snow  Weather_Condition_Ice  \\\n",
       "2                             0                      0   \n",
       "3                             0                      0   \n",
       "4                             0                      0   \n",
       "5                             0                      0   \n",
       "6                             0                      0   \n",
       "\n",
       "   Weather_Condition_Mist  Weather_Condition_Rain  Weather_Condition_Sand  \\\n",
       "2                       0                       0                       0   \n",
       "3                       0                       0                       0   \n",
       "4                       0                       0                       0   \n",
       "5                       0                       1                       0   \n",
       "6                       0                       0                       0   \n",
       "\n",
       "   Weather_Condition_Smoke  Weather_Condition_Snow  \\\n",
       "2                        0                       0   \n",
       "3                        0                       0   \n",
       "4                        0                       0   \n",
       "5                        0                       0   \n",
       "6                        0                       0   \n",
       "\n",
       "   Weather_Condition_Thunderstorm  Sunrise_Sunset_Day  Sunrise_Sunset_Night  \n",
       "2                               0                   0                     1  \n",
       "3                               0                   0                     1  \n",
       "4                               0                   1                     0  \n",
       "5                               0                   1                     0  \n",
       "6                               0                   1                     0  \n",
       "\n",
       "[5 rows x 32 columns]"
      ]
     },
     "execution_count": 28,
     "metadata": {},
     "output_type": "execute_result"
    }
   ],
   "source": [
    "data = X.copy()\n",
    "X = pd.get_dummies(data)\n",
    "\n",
    "#X.to_csv(\"X.csv\",index=False)\n",
    "X.head()"
   ]
  },
  {
   "cell_type": "markdown",
   "metadata": {},
   "source": [
    "# Create a Train Test Split\n",
    "\n"
   ]
  },
  {
   "cell_type": "code",
   "execution_count": 29,
   "metadata": {},
   "outputs": [
    {
     "data": {
      "text/html": [
       "<div>\n",
       "<style scoped>\n",
       "    .dataframe tbody tr th:only-of-type {\n",
       "        vertical-align: middle;\n",
       "    }\n",
       "\n",
       "    .dataframe tbody tr th {\n",
       "        vertical-align: top;\n",
       "    }\n",
       "\n",
       "    .dataframe thead th {\n",
       "        text-align: right;\n",
       "    }\n",
       "</style>\n",
       "<table border=\"1\" class=\"dataframe\">\n",
       "  <thead>\n",
       "    <tr style=\"text-align: right;\">\n",
       "      <th></th>\n",
       "      <th>Temperature(F)</th>\n",
       "      <th>Humidity(%)</th>\n",
       "      <th>Pressure(in)</th>\n",
       "      <th>Visibility(mi)</th>\n",
       "      <th>Wind_Speed(mph)</th>\n",
       "      <th>Amenity</th>\n",
       "      <th>Crossing</th>\n",
       "      <th>Junction</th>\n",
       "      <th>No_Exit</th>\n",
       "      <th>Railway</th>\n",
       "      <th>...</th>\n",
       "      <th>Weather_Condition_Heavy Snow</th>\n",
       "      <th>Weather_Condition_Ice</th>\n",
       "      <th>Weather_Condition_Mist</th>\n",
       "      <th>Weather_Condition_Rain</th>\n",
       "      <th>Weather_Condition_Sand</th>\n",
       "      <th>Weather_Condition_Smoke</th>\n",
       "      <th>Weather_Condition_Snow</th>\n",
       "      <th>Weather_Condition_Thunderstorm</th>\n",
       "      <th>Sunrise_Sunset_Day</th>\n",
       "      <th>Sunrise_Sunset_Night</th>\n",
       "    </tr>\n",
       "  </thead>\n",
       "  <tbody>\n",
       "    <tr>\n",
       "      <th>1736524</th>\n",
       "      <td>59.0</td>\n",
       "      <td>63.0</td>\n",
       "      <td>30.08</td>\n",
       "      <td>10.0</td>\n",
       "      <td>4.6</td>\n",
       "      <td>False</td>\n",
       "      <td>False</td>\n",
       "      <td>False</td>\n",
       "      <td>False</td>\n",
       "      <td>False</td>\n",
       "      <td>...</td>\n",
       "      <td>0</td>\n",
       "      <td>0</td>\n",
       "      <td>0</td>\n",
       "      <td>0</td>\n",
       "      <td>0</td>\n",
       "      <td>0</td>\n",
       "      <td>0</td>\n",
       "      <td>0</td>\n",
       "      <td>1</td>\n",
       "      <td>0</td>\n",
       "    </tr>\n",
       "    <tr>\n",
       "      <th>873671</th>\n",
       "      <td>77.0</td>\n",
       "      <td>90.0</td>\n",
       "      <td>30.02</td>\n",
       "      <td>10.0</td>\n",
       "      <td>6.9</td>\n",
       "      <td>False</td>\n",
       "      <td>False</td>\n",
       "      <td>False</td>\n",
       "      <td>False</td>\n",
       "      <td>False</td>\n",
       "      <td>...</td>\n",
       "      <td>0</td>\n",
       "      <td>0</td>\n",
       "      <td>0</td>\n",
       "      <td>1</td>\n",
       "      <td>0</td>\n",
       "      <td>0</td>\n",
       "      <td>0</td>\n",
       "      <td>0</td>\n",
       "      <td>1</td>\n",
       "      <td>0</td>\n",
       "    </tr>\n",
       "    <tr>\n",
       "      <th>1840751</th>\n",
       "      <td>50.0</td>\n",
       "      <td>100.0</td>\n",
       "      <td>30.05</td>\n",
       "      <td>3.0</td>\n",
       "      <td>3.5</td>\n",
       "      <td>False</td>\n",
       "      <td>False</td>\n",
       "      <td>False</td>\n",
       "      <td>False</td>\n",
       "      <td>False</td>\n",
       "      <td>...</td>\n",
       "      <td>0</td>\n",
       "      <td>0</td>\n",
       "      <td>0</td>\n",
       "      <td>0</td>\n",
       "      <td>0</td>\n",
       "      <td>0</td>\n",
       "      <td>0</td>\n",
       "      <td>0</td>\n",
       "      <td>0</td>\n",
       "      <td>1</td>\n",
       "    </tr>\n",
       "    <tr>\n",
       "      <th>294002</th>\n",
       "      <td>93.0</td>\n",
       "      <td>45.0</td>\n",
       "      <td>29.91</td>\n",
       "      <td>10.0</td>\n",
       "      <td>12.7</td>\n",
       "      <td>False</td>\n",
       "      <td>False</td>\n",
       "      <td>False</td>\n",
       "      <td>False</td>\n",
       "      <td>False</td>\n",
       "      <td>...</td>\n",
       "      <td>0</td>\n",
       "      <td>0</td>\n",
       "      <td>0</td>\n",
       "      <td>0</td>\n",
       "      <td>0</td>\n",
       "      <td>0</td>\n",
       "      <td>0</td>\n",
       "      <td>0</td>\n",
       "      <td>0</td>\n",
       "      <td>1</td>\n",
       "    </tr>\n",
       "    <tr>\n",
       "      <th>1345545</th>\n",
       "      <td>53.6</td>\n",
       "      <td>94.0</td>\n",
       "      <td>30.06</td>\n",
       "      <td>0.5</td>\n",
       "      <td>3.5</td>\n",
       "      <td>False</td>\n",
       "      <td>False</td>\n",
       "      <td>False</td>\n",
       "      <td>False</td>\n",
       "      <td>False</td>\n",
       "      <td>...</td>\n",
       "      <td>0</td>\n",
       "      <td>0</td>\n",
       "      <td>0</td>\n",
       "      <td>0</td>\n",
       "      <td>0</td>\n",
       "      <td>0</td>\n",
       "      <td>0</td>\n",
       "      <td>0</td>\n",
       "      <td>1</td>\n",
       "      <td>0</td>\n",
       "    </tr>\n",
       "  </tbody>\n",
       "</table>\n",
       "<p>5 rows × 32 columns</p>\n",
       "</div>"
      ],
      "text/plain": [
       "         Temperature(F)  Humidity(%)  Pressure(in)  Visibility(mi)  \\\n",
       "1736524            59.0         63.0         30.08            10.0   \n",
       "873671             77.0         90.0         30.02            10.0   \n",
       "1840751            50.0        100.0         30.05             3.0   \n",
       "294002             93.0         45.0         29.91            10.0   \n",
       "1345545            53.6         94.0         30.06             0.5   \n",
       "\n",
       "         Wind_Speed(mph)  Amenity  Crossing  Junction  No_Exit  Railway  ...  \\\n",
       "1736524              4.6    False     False     False    False    False  ...   \n",
       "873671               6.9    False     False     False    False    False  ...   \n",
       "1840751              3.5    False     False     False    False    False  ...   \n",
       "294002              12.7    False     False     False    False    False  ...   \n",
       "1345545              3.5    False     False     False    False    False  ...   \n",
       "\n",
       "         Weather_Condition_Heavy Snow  Weather_Condition_Ice  \\\n",
       "1736524                             0                      0   \n",
       "873671                              0                      0   \n",
       "1840751                             0                      0   \n",
       "294002                              0                      0   \n",
       "1345545                             0                      0   \n",
       "\n",
       "         Weather_Condition_Mist  Weather_Condition_Rain  \\\n",
       "1736524                       0                       0   \n",
       "873671                        0                       1   \n",
       "1840751                       0                       0   \n",
       "294002                        0                       0   \n",
       "1345545                       0                       0   \n",
       "\n",
       "         Weather_Condition_Sand  Weather_Condition_Smoke  \\\n",
       "1736524                       0                        0   \n",
       "873671                        0                        0   \n",
       "1840751                       0                        0   \n",
       "294002                        0                        0   \n",
       "1345545                       0                        0   \n",
       "\n",
       "         Weather_Condition_Snow  Weather_Condition_Thunderstorm  \\\n",
       "1736524                       0                               0   \n",
       "873671                        0                               0   \n",
       "1840751                       0                               0   \n",
       "294002                        0                               0   \n",
       "1345545                       0                               0   \n",
       "\n",
       "         Sunrise_Sunset_Day  Sunrise_Sunset_Night  \n",
       "1736524                   1                     0  \n",
       "873671                    1                     0  \n",
       "1840751                   0                     1  \n",
       "294002                    0                     1  \n",
       "1345545                   1                     0  \n",
       "\n",
       "[5 rows x 32 columns]"
      ]
     },
     "execution_count": 29,
     "metadata": {},
     "output_type": "execute_result"
    }
   ],
   "source": [
    "from sklearn.model_selection import train_test_split\n",
    "\n",
    "X_train, X_test, y_train, y_test = train_test_split(X, y, random_state=1, stratify=y)\n",
    "\n",
    "X_train.head()"
   ]
  },
  {
   "cell_type": "markdown",
   "metadata": {},
   "source": [
    "# Pre-processing\n",
    "\n",
    "Scale the data using the MinMaxScaler and perform some feature selection"
   ]
  },
  {
   "cell_type": "code",
   "execution_count": 30,
   "metadata": {},
   "outputs": [],
   "source": [
    "# # Scale your data\n",
    "# from sklearn.preprocessing import MinMaxScaler\n",
    "# X_minmax = MinMaxScaler().fit(X_train)\n",
    "\n",
    "# X_train_minmax = X_minmax.transform(X_train)\n",
    "# X_test_minmax = X_minmax.transform(X_test)\n",
    "\n"
   ]
  },
  {
   "cell_type": "markdown",
   "metadata": {},
   "source": [
    "# Train the Model - Random Forest \n",
    "\n"
   ]
  },
  {
   "cell_type": "code",
   "execution_count": 31,
   "metadata": {},
   "outputs": [],
   "source": [
    "from sklearn.ensemble import RandomForestClassifier\n",
    "rf = RandomForestClassifier(n_estimators=20)\n"
   ]
  },
  {
   "cell_type": "code",
   "execution_count": 32,
   "metadata": {},
   "outputs": [
    {
     "data": {
      "text/plain": [
       "RandomForestClassifier(bootstrap=True, ccp_alpha=0.0, class_weight=None,\n",
       "                       criterion='gini', max_depth=None, max_features='auto',\n",
       "                       max_leaf_nodes=None, max_samples=None,\n",
       "                       min_impurity_decrease=0.0, min_impurity_split=None,\n",
       "                       min_samples_leaf=1, min_samples_split=2,\n",
       "                       min_weight_fraction_leaf=0.0, n_estimators=20,\n",
       "                       n_jobs=None, oob_score=False, random_state=None,\n",
       "                       verbose=0, warm_start=False)"
      ]
     },
     "execution_count": 32,
     "metadata": {},
     "output_type": "execute_result"
    }
   ],
   "source": [
    "import numpy as np\n",
    "\n",
    "rf = rf.fit(X_train, np.ravel(y_train,order='C'))\n",
    "rf "
   ]
  },
  {
   "cell_type": "code",
   "execution_count": 33,
   "metadata": {},
   "outputs": [
    {
     "name": "stdout",
     "output_type": "stream",
     "text": [
      "Training Data Score: 0.9431465131119693\n",
      "Testing Data Score: 0.6555268189978856\n"
     ]
    }
   ],
   "source": [
    "print(f\"Training Data Score: {rf.score(X_train, y_train)}\")\n",
    "print(f\"Testing Data Score: {rf.score(X_test, y_test)}\")"
   ]
  },
  {
   "cell_type": "code",
   "execution_count": 34,
   "metadata": {},
   "outputs": [
    {
     "data": {
      "text/plain": [
       "[(0.2675681158301574, 'Pressure(in)'),\n",
       " (0.26049763005603543, 'Temperature(F)'),\n",
       " (0.20721187324872642, 'Humidity(%)'),\n",
       " (0.10292298691751925, 'Wind_Speed(mph)'),\n",
       " (0.038862348584104936, 'Traffic_Signal'),\n",
       " (0.03665585841149412, 'Side_R'),\n",
       " (0.033790444056714615, 'Visibility(mi)'),\n",
       " (0.02393861110584552, 'Side_L'),\n",
       " (0.00836013741502617, 'Crossing'),\n",
       " (0.0037978900057383884, 'Junction'),\n",
       " (0.00290246196730728, 'Stop'),\n",
       " (0.002187062003181456, 'Amenity'),\n",
       " (0.0019527186912102613, 'Station'),\n",
       " (0.0016660401654154347, 'Sunrise_Sunset_Night'),\n",
       " (0.0015843278579569116, 'Sunrise_Sunset_Day'),\n",
       " (0.001192718055389608, 'Weather_Condition_Clear'),\n",
       " (0.0011785255399544108, 'Railway'),\n",
       " (0.001024616089353759, 'Weather_Condition_Cloudy'),\n",
       " (0.0007483344519917341, 'Weather_Condition_Rain'),\n",
       " (0.00040783677440832725, 'Weather_Condition_Fog'),\n",
       " (0.0004073694527952128, 'Weather_Condition_Snow'),\n",
       " (0.00030606162469145974, 'No_Exit'),\n",
       " (0.00023286423197322342, 'Weather_Condition_Thunderstorm'),\n",
       " (0.00022772824043791902, 'Weather_Condition_Heavy Rain'),\n",
       " (0.00014892007669689962, 'Weather_Condition_Smoke'),\n",
       " (8.699249886608422e-05, 'Weather_Condition_Mist'),\n",
       " (6.867659126212505e-05, 'Weather_Condition_Heavy Snow'),\n",
       " (4.437486961872557e-05, 'Weather_Condition_Ice'),\n",
       " (1.660058116791111e-05, 'Weather_Condition_Dust'),\n",
       " (6.803514768619371e-06, 'Weather_Condition_Hail'),\n",
       " (2.664093516744068e-06, 'Weather_Condition_Heavy Ice Pellets'),\n",
       " (4.0699667368201376e-07, 'Weather_Condition_Sand')]"
      ]
     },
     "execution_count": 34,
     "metadata": {},
     "output_type": "execute_result"
    }
   ],
   "source": [
    "sorted(zip(rf.feature_importances_, X_train.columns), reverse=True)"
   ]
  },
  {
   "cell_type": "markdown",
   "metadata": {},
   "source": [
    "# Hyperparameter Tuning\n",
    "\n",
    "Use `GridSearchCV` to tune the model's parameters"
   ]
  },
  {
   "cell_type": "code",
   "execution_count": 35,
   "metadata": {},
   "outputs": [],
   "source": [
    "# # Create the GridSearchCV model\n",
    "# from sklearn.model_selection import GridSearchCV\n",
    "# rf_model = RandomForestClassifier()\n"
   ]
  },
  {
   "cell_type": "code",
   "execution_count": 36,
   "metadata": {},
   "outputs": [],
   "source": [
    "# rf_param_grid= {'max_depth':[70,150],\n",
    "#                 'n_estimators':[10,20,50,100,200]}"
   ]
  },
  {
   "cell_type": "code",
   "execution_count": 37,
   "metadata": {
    "scrolled": true
   },
   "outputs": [],
   "source": [
    "# rf_grid = GridSearchCV(rf_model, rf_param_grid, verbose=3)\n",
    "# rf_grid.fit(X_train, np.ravel(y_train,order='C'))\n",
    "# print(\"Done!\")"
   ]
  },
  {
   "cell_type": "markdown",
   "metadata": {},
   "source": [
    "### Random Forest"
   ]
  },
  {
   "cell_type": "code",
   "execution_count": 38,
   "metadata": {},
   "outputs": [],
   "source": [
    "# rf_predictions= rf_grid.predict(X_test)"
   ]
  },
  {
   "cell_type": "code",
   "execution_count": 39,
   "metadata": {},
   "outputs": [],
   "source": [
    "# from sklearn.metrics import classification_report\n",
    "# print(classification_report(y_test, rf_predictions))"
   ]
  },
  {
   "cell_type": "code",
   "execution_count": 40,
   "metadata": {},
   "outputs": [],
   "source": [
    "# print(rf_grid.best_params_)\n",
    "# print(rf_grid.best_score_)"
   ]
  },
  {
   "cell_type": "markdown",
   "metadata": {},
   "source": [
    "# Save the Model"
   ]
  },
  {
   "cell_type": "code",
   "execution_count": 41,
   "metadata": {},
   "outputs": [],
   "source": [
    "# save your model by updating \"your_name\" with your name\n",
    "# and \"your_model\" with your model variable\n",
    "# be sure to turn this in to BCS\n",
    "# if joblib fails to import, try running the command to install in terminal/git-bash\n",
    "\n",
    "\n",
    "\n",
    "# import joblib\n",
    "# filename = 'rf.sav'\n",
    "# joblib.dump(rf_grid, filename)"
   ]
  },
  {
   "cell_type": "markdown",
   "metadata": {},
   "source": [
    "# Train the Model - Decision Tree"
   ]
  },
  {
   "cell_type": "code",
   "execution_count": 168,
   "metadata": {},
   "outputs": [],
   "source": [
    "# Set features. This will also be used as your x values.\n",
    "X = df1.drop([\"Severity\", \"State\",  \n",
    "              \"Give_Way\",\"Traffic_Calming\", \"Roundabout\",\"Bump\", \"Turning_Loop\", \"Weather_Condition\"],axis=1)\n",
    "\n",
    "y = df1[\"Severity\"].values.reshape(-1, 1)\n",
    "\n",
    "\n",
    "#removing features did not result in a better score"
   ]
  },
  {
   "cell_type": "code",
   "execution_count": 169,
   "metadata": {},
   "outputs": [],
   "source": [
    "data = X.copy()\n",
    "X = pd.get_dummies(data)\n",
    "\n",
    "#X.to_csv(\"X.csv\",index=False)\n",
    "#X.head()"
   ]
  },
  {
   "cell_type": "code",
   "execution_count": 170,
   "metadata": {},
   "outputs": [],
   "source": [
    "from sklearn.model_selection import train_test_split\n",
    "\n",
    "X_train, X_test, y_train, y_test = train_test_split(X, y, random_state=1, stratify=y)\n",
    "\n",
    "#X_train.head()"
   ]
  },
  {
   "cell_type": "code",
   "execution_count": 175,
   "metadata": {},
   "outputs": [
    {
     "data": {
      "text/plain": [
       "DecisionTreeClassifier(ccp_alpha=0.0, class_weight=None, criterion='gini',\n",
       "                       max_depth=10, max_features=None, max_leaf_nodes=None,\n",
       "                       min_impurity_decrease=0.0, min_impurity_split=None,\n",
       "                       min_samples_leaf=1, min_samples_split=2,\n",
       "                       min_weight_fraction_leaf=0.0, presort='deprecated',\n",
       "                       random_state=None, splitter='best')"
      ]
     },
     "execution_count": 175,
     "metadata": {},
     "output_type": "execute_result"
    }
   ],
   "source": [
    "from sklearn import tree\n",
    "clf = tree.DecisionTreeClassifier(max_depth= 10)\n",
    "clf "
   ]
  },
  {
   "cell_type": "code",
   "execution_count": 176,
   "metadata": {},
   "outputs": [],
   "source": [
    "clf = clf.fit(X_train, y_train)"
   ]
  },
  {
   "cell_type": "code",
   "execution_count": 177,
   "metadata": {},
   "outputs": [
    {
     "name": "stdout",
     "output_type": "stream",
     "text": [
      "Training Data Score: 0.6533941620053988\n",
      "Testing Data Score: 0.6520979060262134\n"
     ]
    }
   ],
   "source": [
    "print(f\"Training Data Score: {clf.score(X_train, y_train)}\")\n",
    "print(f\"Testing Data Score: {clf.score(X_test, y_test)}\")\n",
    "# Training Data Score: 0.9393206283199362\n",
    "# Testing Data Score: 0.6186738690317028"
   ]
  },
  {
   "cell_type": "markdown",
   "metadata": {},
   "source": [
    "### Hyper Parameter Tuning"
   ]
  },
  {
   "cell_type": "code",
   "execution_count": 146,
   "metadata": {},
   "outputs": [],
   "source": [
    "# Create the GridSearchCV model\n",
    "from sklearn.model_selection import GridSearchCV\n",
    "dt_model = tree.DecisionTreeClassifier()"
   ]
  },
  {
   "cell_type": "code",
   "execution_count": 163,
   "metadata": {},
   "outputs": [],
   "source": [
    "dt_param_grid = {'max_depth':[10,20], 'min_samples_leaf':[10,20,100]}"
   ]
  },
  {
   "cell_type": "code",
   "execution_count": 164,
   "metadata": {},
   "outputs": [
    {
     "name": "stdout",
     "output_type": "stream",
     "text": [
      "Fitting 5 folds for each of 6 candidates, totalling 30 fits\n"
     ]
    },
    {
     "name": "stderr",
     "output_type": "stream",
     "text": [
      "[Parallel(n_jobs=1)]: Using backend SequentialBackend with 1 concurrent workers.\n"
     ]
    },
    {
     "name": "stdout",
     "output_type": "stream",
     "text": [
      "[CV] max_depth=10, min_samples_leaf=10 ...............................\n",
      "[CV] ... max_depth=10, min_samples_leaf=10, score=0.652, total=   6.9s\n",
      "[CV] max_depth=10, min_samples_leaf=10 ...............................\n"
     ]
    },
    {
     "name": "stderr",
     "output_type": "stream",
     "text": [
      "[Parallel(n_jobs=1)]: Done   1 out of   1 | elapsed:    6.9s remaining:    0.0s\n"
     ]
    },
    {
     "name": "stdout",
     "output_type": "stream",
     "text": [
      "[CV] ... max_depth=10, min_samples_leaf=10, score=0.652, total=   6.1s\n",
      "[CV] max_depth=10, min_samples_leaf=10 ...............................\n"
     ]
    },
    {
     "name": "stderr",
     "output_type": "stream",
     "text": [
      "[Parallel(n_jobs=1)]: Done   2 out of   2 | elapsed:   13.0s remaining:    0.0s\n"
     ]
    },
    {
     "name": "stdout",
     "output_type": "stream",
     "text": [
      "[CV] ... max_depth=10, min_samples_leaf=10, score=0.652, total=   6.4s\n",
      "[CV] max_depth=10, min_samples_leaf=10 ...............................\n",
      "[CV] ... max_depth=10, min_samples_leaf=10, score=0.653, total=   5.6s\n",
      "[CV] max_depth=10, min_samples_leaf=10 ...............................\n",
      "[CV] ... max_depth=10, min_samples_leaf=10, score=0.653, total=   6.4s\n",
      "[CV] max_depth=10, min_samples_leaf=20 ...............................\n",
      "[CV] ... max_depth=10, min_samples_leaf=20, score=0.652, total=   6.4s\n",
      "[CV] max_depth=10, min_samples_leaf=20 ...............................\n",
      "[CV] ... max_depth=10, min_samples_leaf=20, score=0.652, total=   6.3s\n",
      "[CV] max_depth=10, min_samples_leaf=20 ...............................\n",
      "[CV] ... max_depth=10, min_samples_leaf=20, score=0.652, total=   6.3s\n",
      "[CV] max_depth=10, min_samples_leaf=20 ...............................\n",
      "[CV] ... max_depth=10, min_samples_leaf=20, score=0.653, total=   6.4s\n",
      "[CV] max_depth=10, min_samples_leaf=20 ...............................\n",
      "[CV] ... max_depth=10, min_samples_leaf=20, score=0.653, total=   6.3s\n",
      "[CV] max_depth=10, min_samples_leaf=100 ..............................\n",
      "[CV] .. max_depth=10, min_samples_leaf=100, score=0.652, total=   6.4s\n",
      "[CV] max_depth=10, min_samples_leaf=100 ..............................\n",
      "[CV] .. max_depth=10, min_samples_leaf=100, score=0.652, total=   6.3s\n",
      "[CV] max_depth=10, min_samples_leaf=100 ..............................\n",
      "[CV] .. max_depth=10, min_samples_leaf=100, score=0.652, total=   6.3s\n",
      "[CV] max_depth=10, min_samples_leaf=100 ..............................\n",
      "[CV] .. max_depth=10, min_samples_leaf=100, score=0.653, total=   6.6s\n",
      "[CV] max_depth=10, min_samples_leaf=100 ..............................\n",
      "[CV] .. max_depth=10, min_samples_leaf=100, score=0.653, total=   6.4s\n",
      "[CV] max_depth=20, min_samples_leaf=10 ...............................\n",
      "[CV] ... max_depth=20, min_samples_leaf=10, score=0.651, total=   9.5s\n",
      "[CV] max_depth=20, min_samples_leaf=10 ...............................\n",
      "[CV] ... max_depth=20, min_samples_leaf=10, score=0.650, total=   9.5s\n",
      "[CV] max_depth=20, min_samples_leaf=10 ...............................\n",
      "[CV] ... max_depth=20, min_samples_leaf=10, score=0.650, total=   9.8s\n",
      "[CV] max_depth=20, min_samples_leaf=10 ...............................\n",
      "[CV] ... max_depth=20, min_samples_leaf=10, score=0.650, total=   9.6s\n",
      "[CV] max_depth=20, min_samples_leaf=10 ...............................\n",
      "[CV] ... max_depth=20, min_samples_leaf=10, score=0.650, total=   9.4s\n",
      "[CV] max_depth=20, min_samples_leaf=20 ...............................\n",
      "[CV] ... max_depth=20, min_samples_leaf=20, score=0.651, total=   9.5s\n",
      "[CV] max_depth=20, min_samples_leaf=20 ...............................\n",
      "[CV] ... max_depth=20, min_samples_leaf=20, score=0.651, total=   9.5s\n",
      "[CV] max_depth=20, min_samples_leaf=20 ...............................\n",
      "[CV] ... max_depth=20, min_samples_leaf=20, score=0.651, total=   9.4s\n",
      "[CV] max_depth=20, min_samples_leaf=20 ...............................\n",
      "[CV] ... max_depth=20, min_samples_leaf=20, score=0.651, total=   9.5s\n",
      "[CV] max_depth=20, min_samples_leaf=20 ...............................\n",
      "[CV] ... max_depth=20, min_samples_leaf=20, score=0.650, total=   9.4s\n",
      "[CV] max_depth=20, min_samples_leaf=100 ..............................\n",
      "[CV] .. max_depth=20, min_samples_leaf=100, score=0.651, total=   9.2s\n",
      "[CV] max_depth=20, min_samples_leaf=100 ..............................\n",
      "[CV] .. max_depth=20, min_samples_leaf=100, score=0.651, total=   9.3s\n",
      "[CV] max_depth=20, min_samples_leaf=100 ..............................\n",
      "[CV] .. max_depth=20, min_samples_leaf=100, score=0.650, total=   9.2s\n",
      "[CV] max_depth=20, min_samples_leaf=100 ..............................\n",
      "[CV] .. max_depth=20, min_samples_leaf=100, score=0.651, total=   9.2s\n",
      "[CV] max_depth=20, min_samples_leaf=100 ..............................\n",
      "[CV] .. max_depth=20, min_samples_leaf=100, score=0.650, total=   9.5s\n"
     ]
    },
    {
     "name": "stderr",
     "output_type": "stream",
     "text": [
      "[Parallel(n_jobs=1)]: Done  30 out of  30 | elapsed:  4.0min finished\n"
     ]
    },
    {
     "name": "stdout",
     "output_type": "stream",
     "text": [
      "Done!\n"
     ]
    }
   ],
   "source": [
    "dt_grid = GridSearchCV(dt_model, dt_param_grid, verbose=3)\n",
    "dt_grid.fit(X_train, y_train)\n",
    "print(\"Done!\")"
   ]
  },
  {
   "cell_type": "code",
   "execution_count": 165,
   "metadata": {},
   "outputs": [],
   "source": [
    "dt_predictions= dt_grid.predict(X_test)"
   ]
  },
  {
   "cell_type": "code",
   "execution_count": 166,
   "metadata": {},
   "outputs": [
    {
     "name": "stderr",
     "output_type": "stream",
     "text": [
      "/anaconda3/lib/python3.7/site-packages/sklearn/metrics/_classification.py:1268: UndefinedMetricWarning: Precision and F-score are ill-defined and being set to 0.0 in labels with no predicted samples. Use `zero_division` parameter to control this behavior.\n",
      "  _warn_prf(average, modifier, msg_start, len(result))\n"
     ]
    },
    {
     "name": "stdout",
     "output_type": "stream",
     "text": [
      "              precision    recall  f1-score   support\n",
      "\n",
      "           0       0.00      0.00      0.00         4\n",
      "           1       0.00      0.00      0.00       161\n",
      "           2       0.66      0.95      0.78    289662\n",
      "           3       0.48      0.11      0.17    141635\n",
      "           4       0.00      0.00      0.00     13577\n",
      "\n",
      "    accuracy                           0.65    445039\n",
      "   macro avg       0.23      0.21      0.19    445039\n",
      "weighted avg       0.59      0.65      0.56    445039\n",
      "\n"
     ]
    }
   ],
   "source": [
    "from sklearn.metrics import classification_report\n",
    "print(classification_report(y_test, dt_predictions))"
   ]
  },
  {
   "cell_type": "code",
   "execution_count": 167,
   "metadata": {},
   "outputs": [
    {
     "name": "stdout",
     "output_type": "stream",
     "text": [
      "{'max_depth': 10, 'min_samples_leaf': 20}\n",
      "0.6526511556899915\n"
     ]
    }
   ],
   "source": [
    "print(dt_grid.best_params_)\n",
    "print(dt_grid.best_score_)"
   ]
  },
  {
   "cell_type": "code",
   "execution_count": 178,
   "metadata": {},
   "outputs": [
    {
     "name": "stdout",
     "output_type": "stream",
     "text": [
      "Training Data Score: 0.6530900685783108\n",
      "Testing Data Score: 0.6521720568309743\n"
     ]
    }
   ],
   "source": [
    "print(f\"Training Data Score: {dt_grid.score(X_train, y_train)}\")\n",
    "print(f\"Testing Data Score: {dt_grid.score(X_test, y_test)}\")"
   ]
  },
  {
   "cell_type": "markdown",
   "metadata": {},
   "source": [
    "# Train the Model - SVM"
   ]
  },
  {
   "cell_type": "code",
   "execution_count": null,
   "metadata": {},
   "outputs": [],
   "source": [
    "# Set features. This will also be used as your x values.\n",
    "X = df1.drop([\"Severity\", \"State\",  \n",
    "              \"Give_Way\",\"Traffic_Calming\", \"Roundabout\",\"Bump\", \"Turning_Loop\", \"Weather_Condition\"],axis=1)\n",
    "\n",
    "y = df1[\"Severity\"].values.reshape(-1, 1)\n",
    "\n",
    "\n",
    "#removing features did not result in a better score"
   ]
  },
  {
   "cell_type": "code",
   "execution_count": 198,
   "metadata": {},
   "outputs": [],
   "source": [
    "data = X.copy()\n",
    "X = pd.get_dummies(data)\n",
    "\n",
    "#X.to_csv(\"X.csv\",index=False)\n",
    "#X.head()"
   ]
  },
  {
   "cell_type": "code",
   "execution_count": 199,
   "metadata": {},
   "outputs": [],
   "source": [
    "from sklearn.model_selection import train_test_split\n",
    "\n",
    "X_train, X_test, y_train, y_test = train_test_split(X, y, random_state=1, stratify=y)\n",
    "\n",
    "#X_train.head()"
   ]
  },
  {
   "cell_type": "code",
   "execution_count": 200,
   "metadata": {},
   "outputs": [],
   "source": [
    "from sklearn.svm import SVC \n",
    "model = SVC(kernel='linear')"
   ]
  },
  {
   "cell_type": "code",
   "execution_count": null,
   "metadata": {},
   "outputs": [],
   "source": [
    "model= model.fit(X_train, y_train)\n",
    "model"
   ]
  },
  {
   "cell_type": "code",
   "execution_count": null,
   "metadata": {},
   "outputs": [],
   "source": [
    "print(f\"Training Data Score: {model.score(X_train, y_train)}\")\n",
    "print(f\"Testing Data Score: {model.score(X_test, y_test)}\")"
   ]
  }
 ],
 "metadata": {
  "kernel_info": {
   "name": "dev"
  },
  "kernelspec": {
   "display_name": "Python 3",
   "language": "python",
   "name": "python3"
  },
  "language_info": {
   "codemirror_mode": {
    "name": "ipython",
    "version": 3
   },
   "file_extension": ".py",
   "mimetype": "text/x-python",
   "name": "python",
   "nbconvert_exporter": "python",
   "pygments_lexer": "ipython3",
   "version": "3.7.3"
  },
  "nteract": {
   "version": "0.12.3"
  }
 },
 "nbformat": 4,
 "nbformat_minor": 2
}
